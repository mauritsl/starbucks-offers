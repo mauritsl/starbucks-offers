{
 "cells": [
  {
   "cell_type": "markdown",
   "metadata": {},
   "source": [
    "# Starbucks offerings\n",
    "\n"
   ]
  },
  {
   "cell_type": "markdown",
   "metadata": {},
   "source": [
    "This project analyses the effectiveness of Starbucks offers."
   ]
  },
  {
   "cell_type": "code",
   "execution_count": 1,
   "metadata": {},
   "outputs": [
    {
     "name": "stderr",
     "output_type": "stream",
     "text": [
      "UsageError: Line magic function `%` not found.\n"
     ]
    }
   ],
   "source": [
    "import pandas as pd\n",
    "import numpy as np\n",
    "import math\n",
    "import json\n",
    "import matplotlib.pyplot as plt\n",
    "import seaborn as sns\n",
    "import pickle\n",
    "from sklearn.preprocessing import StandardScaler\n",
    "from sklearn.ensemble import RandomForestClassifier\n",
    "from sklearn.ensemble import AdaBoostClassifier\n",
    "from sklearn.ensemble import BaggingClassifier\n",
    "from sklearn.ensemble import GradientBoostingClassifier\n",
    "from sklearn.linear_model import LogisticRegression\n",
    "from sklearn.linear_model import LogisticRegression\n",
    "from sklearn.linear_model import RidgeClassifier\n",
    "from sklearn.linear_model import SGDClassifier\n",
    "from sklearn.tree import DecisionTreeClassifier\n",
    "from sklearn.model_selection import train_test_split\n",
    "from sklearn.metrics import accuracy_score\n",
    "from sklearn.metrics import make_scorer\n",
    "from sklearn.model_selection import GridSearchCV\n",
    "from scipy import stats\n",
    "from scipy import interpolate\n",
    "% matplotlib inline"
   ]
  },
  {
   "cell_type": "markdown",
   "metadata": {},
   "source": [
    "## Understanding the business"
   ]
  },
  {
   "cell_type": "markdown",
   "metadata": {},
   "source": [
    "A selected group receives offers for discounts (20% off when spending $10+), bogo (buy one, get one) or informational offers. Various offers differ in type, duration, difficulty (minimum spending) and reward (provided in discount). Also, there are some demographic data available.\n",
    "\n",
    "The ultimate goal is to improve the provided offerings. It raises questions such as:\n",
    "\n",
    "* Which offers are used?\n",
    "* Which parameters should be changed to increase its usage or turnover?\n",
    "* Can we link the perceived effects to demographic features? Thus, what offers work best for which people?\n",
    "\n",
    "We start by analysing and cleaning the data before we do any modelling. After the modelling, we will evaluate the results and draw conclusions."
   ]
  },
  {
   "cell_type": "markdown",
   "metadata": {},
   "source": [
    "## Understanding the data"
   ]
  },
  {
   "cell_type": "markdown",
   "metadata": {},
   "source": [
    "The data is contained in three files:\n",
    "\n",
    "* portfolio.json - containing offer ids and meta data about each offer (duration, type, etc.)\n",
    "* profile.json - demographic data for each customer\n",
    "* transcript.json - records for transactions, offers received, offers viewed, and offers completed\n"
   ]
  },
  {
   "cell_type": "code",
   "execution_count": 2,
   "metadata": {},
   "outputs": [],
   "source": [
    "portfolio = pd.read_json('data/portfolio.json', orient='records', lines=True)\n",
    "profile = pd.read_json('data/profile.json', orient='records', lines=True)\n",
    "transcript = pd.read_json('data/transcript.json', orient='records', lines=True)"
   ]
  },
  {
   "cell_type": "markdown",
   "metadata": {},
   "source": [
    "First, view all offers in the portfolio dataset:"
   ]
  },
  {
   "cell_type": "markdown",
   "metadata": {},
   "source": [
    "## Portfolio"
   ]
  },
  {
   "cell_type": "code",
   "execution_count": 3,
   "metadata": {},
   "outputs": [
    {
     "data": {
      "text/html": [
       "<div>\n",
       "<style scoped>\n",
       "    .dataframe tbody tr th:only-of-type {\n",
       "        vertical-align: middle;\n",
       "    }\n",
       "\n",
       "    .dataframe tbody tr th {\n",
       "        vertical-align: top;\n",
       "    }\n",
       "\n",
       "    .dataframe thead th {\n",
       "        text-align: right;\n",
       "    }\n",
       "</style>\n",
       "<table border=\"1\" class=\"dataframe\">\n",
       "  <thead>\n",
       "    <tr style=\"text-align: right;\">\n",
       "      <th></th>\n",
       "      <th>reward</th>\n",
       "      <th>channels</th>\n",
       "      <th>difficulty</th>\n",
       "      <th>duration</th>\n",
       "      <th>offer_type</th>\n",
       "      <th>id</th>\n",
       "    </tr>\n",
       "  </thead>\n",
       "  <tbody>\n",
       "    <tr>\n",
       "      <td>0</td>\n",
       "      <td>10</td>\n",
       "      <td>[email, mobile, social]</td>\n",
       "      <td>10</td>\n",
       "      <td>7</td>\n",
       "      <td>bogo</td>\n",
       "      <td>ae264e3637204a6fb9bb56bc8210ddfd</td>\n",
       "    </tr>\n",
       "    <tr>\n",
       "      <td>1</td>\n",
       "      <td>10</td>\n",
       "      <td>[web, email, mobile, social]</td>\n",
       "      <td>10</td>\n",
       "      <td>5</td>\n",
       "      <td>bogo</td>\n",
       "      <td>4d5c57ea9a6940dd891ad53e9dbe8da0</td>\n",
       "    </tr>\n",
       "    <tr>\n",
       "      <td>2</td>\n",
       "      <td>0</td>\n",
       "      <td>[web, email, mobile]</td>\n",
       "      <td>0</td>\n",
       "      <td>4</td>\n",
       "      <td>informational</td>\n",
       "      <td>3f207df678b143eea3cee63160fa8bed</td>\n",
       "    </tr>\n",
       "    <tr>\n",
       "      <td>3</td>\n",
       "      <td>5</td>\n",
       "      <td>[web, email, mobile]</td>\n",
       "      <td>5</td>\n",
       "      <td>7</td>\n",
       "      <td>bogo</td>\n",
       "      <td>9b98b8c7a33c4b65b9aebfe6a799e6d9</td>\n",
       "    </tr>\n",
       "    <tr>\n",
       "      <td>4</td>\n",
       "      <td>5</td>\n",
       "      <td>[web, email]</td>\n",
       "      <td>20</td>\n",
       "      <td>10</td>\n",
       "      <td>discount</td>\n",
       "      <td>0b1e1539f2cc45b7b9fa7c272da2e1d7</td>\n",
       "    </tr>\n",
       "    <tr>\n",
       "      <td>5</td>\n",
       "      <td>3</td>\n",
       "      <td>[web, email, mobile, social]</td>\n",
       "      <td>7</td>\n",
       "      <td>7</td>\n",
       "      <td>discount</td>\n",
       "      <td>2298d6c36e964ae4a3e7e9706d1fb8c2</td>\n",
       "    </tr>\n",
       "    <tr>\n",
       "      <td>6</td>\n",
       "      <td>2</td>\n",
       "      <td>[web, email, mobile, social]</td>\n",
       "      <td>10</td>\n",
       "      <td>10</td>\n",
       "      <td>discount</td>\n",
       "      <td>fafdcd668e3743c1bb461111dcafc2a4</td>\n",
       "    </tr>\n",
       "    <tr>\n",
       "      <td>7</td>\n",
       "      <td>0</td>\n",
       "      <td>[email, mobile, social]</td>\n",
       "      <td>0</td>\n",
       "      <td>3</td>\n",
       "      <td>informational</td>\n",
       "      <td>5a8bc65990b245e5a138643cd4eb9837</td>\n",
       "    </tr>\n",
       "    <tr>\n",
       "      <td>8</td>\n",
       "      <td>5</td>\n",
       "      <td>[web, email, mobile, social]</td>\n",
       "      <td>5</td>\n",
       "      <td>5</td>\n",
       "      <td>bogo</td>\n",
       "      <td>f19421c1d4aa40978ebb69ca19b0e20d</td>\n",
       "    </tr>\n",
       "    <tr>\n",
       "      <td>9</td>\n",
       "      <td>2</td>\n",
       "      <td>[web, email, mobile]</td>\n",
       "      <td>10</td>\n",
       "      <td>7</td>\n",
       "      <td>discount</td>\n",
       "      <td>2906b810c7d4411798c6938adc9daaa5</td>\n",
       "    </tr>\n",
       "  </tbody>\n",
       "</table>\n",
       "</div>"
      ],
      "text/plain": [
       "   reward                      channels  difficulty  duration     offer_type  \\\n",
       "0      10       [email, mobile, social]          10         7           bogo   \n",
       "1      10  [web, email, mobile, social]          10         5           bogo   \n",
       "2       0          [web, email, mobile]           0         4  informational   \n",
       "3       5          [web, email, mobile]           5         7           bogo   \n",
       "4       5                  [web, email]          20        10       discount   \n",
       "5       3  [web, email, mobile, social]           7         7       discount   \n",
       "6       2  [web, email, mobile, social]          10        10       discount   \n",
       "7       0       [email, mobile, social]           0         3  informational   \n",
       "8       5  [web, email, mobile, social]           5         5           bogo   \n",
       "9       2          [web, email, mobile]          10         7       discount   \n",
       "\n",
       "                                 id  \n",
       "0  ae264e3637204a6fb9bb56bc8210ddfd  \n",
       "1  4d5c57ea9a6940dd891ad53e9dbe8da0  \n",
       "2  3f207df678b143eea3cee63160fa8bed  \n",
       "3  9b98b8c7a33c4b65b9aebfe6a799e6d9  \n",
       "4  0b1e1539f2cc45b7b9fa7c272da2e1d7  \n",
       "5  2298d6c36e964ae4a3e7e9706d1fb8c2  \n",
       "6  fafdcd668e3743c1bb461111dcafc2a4  \n",
       "7  5a8bc65990b245e5a138643cd4eb9837  \n",
       "8  f19421c1d4aa40978ebb69ca19b0e20d  \n",
       "9  2906b810c7d4411798c6938adc9daaa5  "
      ]
     },
     "execution_count": 3,
     "metadata": {},
     "output_type": "execute_result"
    }
   ],
   "source": [
    "portfolio"
   ]
  },
  {
   "cell_type": "markdown",
   "metadata": {},
   "source": [
    "There are at least two offers for each type, and they differ in difficulty, duration and reward. The informational offers have no difficulty or reward, as might be expected since they do not involve any spendings. There is no missing data in this set."
   ]
  },
  {
   "cell_type": "markdown",
   "metadata": {},
   "source": [
    "## Profiles"
   ]
  },
  {
   "cell_type": "markdown",
   "metadata": {},
   "source": [
    "Lets view the profile data."
   ]
  },
  {
   "cell_type": "code",
   "execution_count": 4,
   "metadata": {},
   "outputs": [
    {
     "data": {
      "text/html": [
       "<div>\n",
       "<style scoped>\n",
       "    .dataframe tbody tr th:only-of-type {\n",
       "        vertical-align: middle;\n",
       "    }\n",
       "\n",
       "    .dataframe tbody tr th {\n",
       "        vertical-align: top;\n",
       "    }\n",
       "\n",
       "    .dataframe thead th {\n",
       "        text-align: right;\n",
       "    }\n",
       "</style>\n",
       "<table border=\"1\" class=\"dataframe\">\n",
       "  <thead>\n",
       "    <tr style=\"text-align: right;\">\n",
       "      <th></th>\n",
       "      <th>gender</th>\n",
       "      <th>age</th>\n",
       "      <th>id</th>\n",
       "      <th>became_member_on</th>\n",
       "      <th>income</th>\n",
       "    </tr>\n",
       "  </thead>\n",
       "  <tbody>\n",
       "    <tr>\n",
       "      <td>0</td>\n",
       "      <td>None</td>\n",
       "      <td>118</td>\n",
       "      <td>68be06ca386d4c31939f3a4f0e3dd783</td>\n",
       "      <td>20170212</td>\n",
       "      <td>NaN</td>\n",
       "    </tr>\n",
       "    <tr>\n",
       "      <td>1</td>\n",
       "      <td>F</td>\n",
       "      <td>55</td>\n",
       "      <td>0610b486422d4921ae7d2bf64640c50b</td>\n",
       "      <td>20170715</td>\n",
       "      <td>112000.0</td>\n",
       "    </tr>\n",
       "    <tr>\n",
       "      <td>2</td>\n",
       "      <td>None</td>\n",
       "      <td>118</td>\n",
       "      <td>38fe809add3b4fcf9315a9694bb96ff5</td>\n",
       "      <td>20180712</td>\n",
       "      <td>NaN</td>\n",
       "    </tr>\n",
       "    <tr>\n",
       "      <td>3</td>\n",
       "      <td>F</td>\n",
       "      <td>75</td>\n",
       "      <td>78afa995795e4d85b5d9ceeca43f5fef</td>\n",
       "      <td>20170509</td>\n",
       "      <td>100000.0</td>\n",
       "    </tr>\n",
       "    <tr>\n",
       "      <td>4</td>\n",
       "      <td>None</td>\n",
       "      <td>118</td>\n",
       "      <td>a03223e636434f42ac4c3df47e8bac43</td>\n",
       "      <td>20170804</td>\n",
       "      <td>NaN</td>\n",
       "    </tr>\n",
       "  </tbody>\n",
       "</table>\n",
       "</div>"
      ],
      "text/plain": [
       "  gender  age                                id  became_member_on    income\n",
       "0   None  118  68be06ca386d4c31939f3a4f0e3dd783          20170212       NaN\n",
       "1      F   55  0610b486422d4921ae7d2bf64640c50b          20170715  112000.0\n",
       "2   None  118  38fe809add3b4fcf9315a9694bb96ff5          20180712       NaN\n",
       "3      F   75  78afa995795e4d85b5d9ceeca43f5fef          20170509  100000.0\n",
       "4   None  118  a03223e636434f42ac4c3df47e8bac43          20170804       NaN"
      ]
     },
     "execution_count": 4,
     "metadata": {},
     "output_type": "execute_result"
    }
   ],
   "source": [
    "profile.head()"
   ]
  },
  {
   "cell_type": "markdown",
   "metadata": {},
   "source": [
    "There is ample of demographic information. The became_member_on does not tell much about the user. Gender and income are interesting and might affect the effects of offerings.\n",
    "\n",
    "There are three persons with an age of exactly 118 here. These are on the records that have missing values for gender and income. So, 118 looks like an indication of a missing value. We can plot a histogram to confirm this."
   ]
  },
  {
   "cell_type": "code",
   "execution_count": 5,
   "metadata": {},
   "outputs": [
    {
     "data": {
      "text/plain": [
       "<matplotlib.axes._subplots.AxesSubplot at 0x7f48188b2a20>"
      ]
     },
     "execution_count": 5,
     "metadata": {},
     "output_type": "execute_result"
    },
    {
     "data": {
      "image/png": "[encoded data removed]",
      "text/plain": [
       "<Figure size 432x288 with 1 Axes>"
      ]
     },
     "metadata": {
      "needs_background": "light"
     },
     "output_type": "display_data"
    }
   ],
   "source": [
    "profile.age.hist(bins=30)"
   ]
  },
  {
   "cell_type": "markdown",
   "metadata": {},
   "source": [
    "Clearly, we should treat 118 as a missing value.\n",
    "\n",
    "There are no users with an age below around 17-18. This might be due to an age-limit, but that information was not provided."
   ]
  },
  {
   "cell_type": "code",
   "execution_count": 6,
   "metadata": {
    "scrolled": true
   },
   "outputs": [
    {
     "data": {
      "text/html": [
       "<div>\n",
       "<style scoped>\n",
       "    .dataframe tbody tr th:only-of-type {\n",
       "        vertical-align: middle;\n",
       "    }\n",
       "\n",
       "    .dataframe tbody tr th {\n",
       "        vertical-align: top;\n",
       "    }\n",
       "\n",
       "    .dataframe thead th {\n",
       "        text-align: right;\n",
       "    }\n",
       "</style>\n",
       "<table border=\"1\" class=\"dataframe\">\n",
       "  <thead>\n",
       "    <tr style=\"text-align: right;\">\n",
       "      <th></th>\n",
       "      <th>person</th>\n",
       "      <th>event</th>\n",
       "      <th>value</th>\n",
       "      <th>time</th>\n",
       "    </tr>\n",
       "  </thead>\n",
       "  <tbody>\n",
       "    <tr>\n",
       "      <td>0</td>\n",
       "      <td>78afa995795e4d85b5d9ceeca43f5fef</td>\n",
       "      <td>offer received</td>\n",
       "      <td>{'offer id': '9b98b8c7a33c4b65b9aebfe6a799e6d9'}</td>\n",
       "      <td>0</td>\n",
       "    </tr>\n",
       "    <tr>\n",
       "      <td>1</td>\n",
       "      <td>a03223e636434f42ac4c3df47e8bac43</td>\n",
       "      <td>offer received</td>\n",
       "      <td>{'offer id': '0b1e1539f2cc45b7b9fa7c272da2e1d7'}</td>\n",
       "      <td>0</td>\n",
       "    </tr>\n",
       "    <tr>\n",
       "      <td>2</td>\n",
       "      <td>e2127556f4f64592b11af22de27a7932</td>\n",
       "      <td>offer received</td>\n",
       "      <td>{'offer id': '2906b810c7d4411798c6938adc9daaa5'}</td>\n",
       "      <td>0</td>\n",
       "    </tr>\n",
       "    <tr>\n",
       "      <td>3</td>\n",
       "      <td>8ec6ce2a7e7949b1bf142def7d0e0586</td>\n",
       "      <td>offer received</td>\n",
       "      <td>{'offer id': 'fafdcd668e3743c1bb461111dcafc2a4'}</td>\n",
       "      <td>0</td>\n",
       "    </tr>\n",
       "    <tr>\n",
       "      <td>4</td>\n",
       "      <td>68617ca6246f4fbc85e91a2a49552598</td>\n",
       "      <td>offer received</td>\n",
       "      <td>{'offer id': '4d5c57ea9a6940dd891ad53e9dbe8da0'}</td>\n",
       "      <td>0</td>\n",
       "    </tr>\n",
       "  </tbody>\n",
       "</table>\n",
       "</div>"
      ],
      "text/plain": [
       "                             person           event  \\\n",
       "0  78afa995795e4d85b5d9ceeca43f5fef  offer received   \n",
       "1  a03223e636434f42ac4c3df47e8bac43  offer received   \n",
       "2  e2127556f4f64592b11af22de27a7932  offer received   \n",
       "3  8ec6ce2a7e7949b1bf142def7d0e0586  offer received   \n",
       "4  68617ca6246f4fbc85e91a2a49552598  offer received   \n",
       "\n",
       "                                              value  time  \n",
       "0  {'offer id': '9b98b8c7a33c4b65b9aebfe6a799e6d9'}     0  \n",
       "1  {'offer id': '0b1e1539f2cc45b7b9fa7c272da2e1d7'}     0  \n",
       "2  {'offer id': '2906b810c7d4411798c6938adc9daaa5'}     0  \n",
       "3  {'offer id': 'fafdcd668e3743c1bb461111dcafc2a4'}     0  \n",
       "4  {'offer id': '4d5c57ea9a6940dd891ad53e9dbe8da0'}     0  "
      ]
     },
     "execution_count": 6,
     "metadata": {},
     "output_type": "execute_result"
    }
   ],
   "source": [
    "transcript.head()"
   ]
  },
  {
   "cell_type": "markdown",
   "metadata": {},
   "source": [
    "We can check the distribution of the demographic features."
   ]
  },
  {
   "cell_type": "code",
   "execution_count": 7,
   "metadata": {},
   "outputs": [
    {
     "data": {
      "text/plain": [
       "<matplotlib.collections.PathCollection at 0x7f4818811630>"
      ]
     },
     "execution_count": 7,
     "metadata": {},
     "output_type": "execute_result"
    },
    {
     "data": {
      "image/png": "[encoded data removed]",
      "text/plain": [
       "<Figure size 432x288 with 1 Axes>"
      ]
     },
     "metadata": {
      "needs_background": "light"
     },
     "output_type": "display_data"
    }
   ],
   "source": [
    "plt.scatter(profile.age, profile.income, alpha=0.05, color=\"#5ca4ce\")\n"
   ]
  },
  {
   "cell_type": "markdown",
   "metadata": {},
   "source": [
    "This plot shows three subsets of the data. The first set has an income from 0 to around 75000. The other sets have higher incomes and also have a minimum on the age. This clearly is not all data and not a random subset of all data. Therefore, we should not make conclusions about the age and income of the users. "
   ]
  },
  {
   "cell_type": "markdown",
   "metadata": {},
   "source": [
    "## Transcript"
   ]
  },
  {
   "cell_type": "markdown",
   "metadata": {},
   "source": [
    "The transcript data has a type, a link to the person, a time (in hours) and a value column containing additional data.\n",
    "\n",
    "First check which event types we have."
   ]
  },
  {
   "cell_type": "code",
   "execution_count": 8,
   "metadata": {},
   "outputs": [
    {
     "data": {
      "text/plain": [
       "array(['offer received', 'offer viewed', 'transaction', 'offer completed'],\n",
       "      dtype=object)"
      ]
     },
     "execution_count": 8,
     "metadata": {},
     "output_type": "execute_result"
    }
   ],
   "source": [
    "transcript.event.unique()"
   ]
  },
  {
   "cell_type": "markdown",
   "metadata": {},
   "source": [
    "And give a sample of the value field for each event type."
   ]
  },
  {
   "cell_type": "code",
   "execution_count": 9,
   "metadata": {},
   "outputs": [
    {
     "name": "stdout",
     "output_type": "stream",
     "text": [
      "offer received\n",
      "{'offer id': '9b98b8c7a33c4b65b9aebfe6a799e6d9'}\n",
      "offer viewed\n",
      "{'offer id': 'f19421c1d4aa40978ebb69ca19b0e20d'}\n",
      "transaction\n",
      "{'amount': 0.8300000000000001}\n",
      "offer completed\n",
      "{'offer_id': '2906b810c7d4411798c6938adc9daaa5', 'reward': 2}\n"
     ]
    }
   ],
   "source": [
    "for t in transcript.event.unique():\n",
    "    print(t)\n",
    "    print(transcript[transcript.event == t].value.values[0])"
   ]
  },
  {
   "cell_type": "markdown",
   "metadata": {},
   "source": [
    "This data is not easily accessible for analysis. We have to extract these fields and put them in separate columns."
   ]
  },
  {
   "cell_type": "markdown",
   "metadata": {},
   "source": [
    "We can plot the time of all transcripts to see if activity is evenly spread across the test period."
   ]
  },
  {
   "cell_type": "code",
   "execution_count": 10,
   "metadata": {},
   "outputs": [
    {
     "data": {
      "text/plain": [
       "<matplotlib.axes._subplots.AxesSubplot at 0x7f481882a828>"
      ]
     },
     "execution_count": 10,
     "metadata": {},
     "output_type": "execute_result"
    },
    {
     "data": {
      "image/png": "[encoded data removed]",
      "text/plain": [
       "<Figure size 432x288 with 1 Axes>"
      ]
     },
     "metadata": {
      "needs_background": "light"
     },
     "output_type": "display_data"
    }
   ],
   "source": [
    "sns.distplot(transcript.time)"
   ]
  },
  {
   "cell_type": "code",
   "execution_count": 11,
   "metadata": {},
   "outputs": [
    {
     "data": {
      "text/plain": [
       "(0, 714)"
      ]
     },
     "execution_count": 11,
     "metadata": {},
     "output_type": "execute_result"
    }
   ],
   "source": [
    "transcript.time.min(), transcript.time.max()"
   ]
  },
  {
   "cell_type": "markdown",
   "metadata": {},
   "source": [
    "The test window starts at t=0 and ends at t=714. These values are in hours. Therefore, the whole period spans 4.25 weeks. There are 6 spikes in this data that needs further investigation. We can plot the same graph with only transactions."
   ]
  },
  {
   "cell_type": "code",
   "execution_count": 12,
   "metadata": {},
   "outputs": [
    {
     "data": {
      "text/plain": [
       "<matplotlib.axes._subplots.AxesSubplot at 0x7f4818783ba8>"
      ]
     },
     "execution_count": 12,
     "metadata": {},
     "output_type": "execute_result"
    },
    {
     "data": {
      "image/png": "[encoded data removed]",
      "text/plain": [
       "<Figure size 432x288 with 1 Axes>"
      ]
     },
     "metadata": {
      "needs_background": "light"
     },
     "output_type": "display_data"
    }
   ],
   "source": [
    "sns.distplot(transcript[transcript.event == 'transaction'].time)"
   ]
  },
  {
   "cell_type": "markdown",
   "metadata": {},
   "source": [
    "It still has some spikes, but the 6 large spikes are not visible anymore. The spikes visible here might be due to popular hours (weekends, evenings).\n",
    "\n",
    "For further investigation, we want to know when users got the offers. Are there specific times? And is an offer dependent on previous spendings? Or are there offers that will only be send after another offer?"
   ]
  },
  {
   "cell_type": "markdown",
   "metadata": {},
   "source": [
    "This involves merging datasets.\n",
    "Before doing so, we will rename the *id* columns to give them unique names across all data`sets."
   ]
  },
  {
   "cell_type": "code",
   "execution_count": 13,
   "metadata": {},
   "outputs": [],
   "source": [
    "portfolio.rename(columns={'id': 'offer_id'}, inplace=True)\n",
    "profile.rename(columns={'id': 'profile_id'}, inplace=True)\n",
    "transcript.rename(columns={'person': 'profile_id'}, inplace=True)"
   ]
  },
  {
   "cell_type": "code",
   "execution_count": 14,
   "metadata": {},
   "outputs": [
    {
     "name": "stdout",
     "output_type": "stream",
     "text": [
      "\n"
     ]
    },
    {
     "data": {
      "image/png": "[encoded data removed]",
      "text/plain": [
       "<Figure size 432x288 with 1 Axes>"
      ]
     },
     "metadata": {
      "needs_background": "light"
     },
     "output_type": "display_data"
    }
   ],
   "source": [
    "df = pd.merge(transcript, profile, on=\"profile_id\")\n",
    "df['offer_id'] = list(map(lambda i : i['offer id'] if ('offer id' in i) else (i['offer_id'] if ('offer_id' in i) else None), df.value.values))\n",
    "\n",
    "x = []\n",
    "for offer_id in portfolio.offer_id.values:\n",
    "    x.append(df[(df.event == \"offer received\") & (df.offer_id == offer_id)].time.values)\n",
    "plt.hist(x, bins=30, stacked=True)\n",
    "plt.xlabel(\"time\")\n",
    "plt.ylabel(\"offers\")\n",
    "print(\"\")"
   ]
  },
  {
   "cell_type": "markdown",
   "metadata": {},
   "source": [
    "This graph clearly explains the observed spikes. There are 6 times that offers were sent. Each offer has more-or-less an equal share of the users. This also shows us that there are no dependencies between different offers.\n",
    "\n",
    "We can check the exact times that offers were sent:"
   ]
  },
  {
   "cell_type": "code",
   "execution_count": 15,
   "metadata": {},
   "outputs": [
    {
     "data": {
      "text/plain": [
       "408    12778\n",
       "576    12765\n",
       "336    12711\n",
       "504    12704\n",
       "168    12669\n",
       "0      12650\n",
       "Name: time, dtype: int64"
      ]
     },
     "execution_count": 15,
     "metadata": {},
     "output_type": "execute_result"
    }
   ],
   "source": [
    "transcript[transcript.event == 'offer received'].time.value_counts()"
   ]
  },
  {
   "cell_type": "markdown",
   "metadata": {},
   "source": [
    "There are only 6 hours when offers where sent.\n",
    "The number of users was slightly increased during the test period.\n",
    "\n",
    "The first offer was sent at t=0, the second exactly 1 week later at t=168.\n",
    "We can plot the transactions for the first 200 hours to see if we can observe these events in the transactions."
   ]
  },
  {
   "cell_type": "code",
   "execution_count": 16,
   "metadata": {},
   "outputs": [
    {
     "data": {
      "text/plain": [
       "<matplotlib.axes._subplots.AxesSubplot at 0x7f4818666c50>"
      ]
     },
     "execution_count": 16,
     "metadata": {},
     "output_type": "execute_result"
    },
    {
     "data": {
      "image/png": "[encoded data removed]",
      "text/plain": [
       "<Figure size 432x288 with 1 Axes>"
      ]
     },
     "metadata": {
      "needs_background": "light"
     },
     "output_type": "display_data"
    }
   ],
   "source": [
    "sns.distplot(transcript[(transcript.event == 'transaction') & (transcript.time < 200)].time)"
   ]
  },
  {
   "cell_type": "markdown",
   "metadata": {},
   "source": [
    "There is a spike on t=0, but not on t=168. Therefore, these spikes should be explained by other means, such as popular hours (weekends). There is no further information to investigate."
   ]
  },
  {
   "cell_type": "code",
   "execution_count": 17,
   "metadata": {
    "scrolled": true
   },
   "outputs": [
    {
     "data": {
      "text/plain": [
       "<matplotlib.axes._subplots.AxesSubplot at 0x7f48185d9d68>"
      ]
     },
     "execution_count": 17,
     "metadata": {},
     "output_type": "execute_result"
    },
    {
     "data": {
      "image/png": "[encoded data removed]",
      "text/plain": [
       "<Figure size 432x288 with 1 Axes>"
      ]
     },
     "metadata": {
      "needs_background": "light"
     },
     "output_type": "display_data"
    }
   ],
   "source": [
    "sns.distplot(transcript[(transcript.event == 'offer viewed') & (transcript.time < 200)].time)"
   ]
  },
  {
   "cell_type": "markdown",
   "metadata": {},
   "source": [
    "The *offer viewed* events clearly follow the *offer received* events, as expected."
   ]
  },
  {
   "cell_type": "markdown",
   "metadata": {},
   "source": [
    "## Plotting events\n",
    "\n",
    "To get an idea of the ocurring events, we want to plot all events for a single user.\n",
    "This involves merging the datasets."
   ]
  },
  {
   "cell_type": "code",
   "execution_count": 18,
   "metadata": {},
   "outputs": [
    {
     "data": {
      "image/png": "[encoded data removed]",
      "text/plain": [
       "<Figure size 1152x360 with 2 Axes>"
      ]
     },
     "metadata": {
      "needs_background": "light"
     },
     "output_type": "display_data"
    }
   ],
   "source": [
    "def plot_user(df, profile_id, show=True, figure=None):\n",
    "    ax = figure if figure else plt\n",
    "    rows = df[df.profile_id == profile_id]\n",
    "    x = []\n",
    "    y = []\n",
    "    c = []\n",
    "    s = []\n",
    "    offer_shapes = {}\n",
    "    for index, row in rows.iterrows():\n",
    "        amount = 0\n",
    "        color = \"gray\"\n",
    "        shape = \".\"\n",
    "        if row.event == \"offer received\":\n",
    "            color = \"red\"\n",
    "            shape = \">\"\n",
    "        if row.event == \"offer viewed\":\n",
    "            color = \"orange\"\n",
    "        if row.event == \"offer completed\":\n",
    "            color = \"green\"\n",
    "            ax.axvline(x=row.time, color=\"green\", alpha=0.3)\n",
    "            continue\n",
    "        if 'value' in row:\n",
    "            if 'amount' in row.value:\n",
    "                amount = row.value['amount']\n",
    "            if 'offer id' in row.value:\n",
    "                amount = portfolio[portfolio.offer_id == row.value['offer id']].difficulty.values[0]\n",
    "        else:\n",
    "            amount = row.amount\n",
    "        x.append(row.time)\n",
    "        y.append(amount)\n",
    "        c.append(color)\n",
    "        s.append(shape)\n",
    "    ax.scatter(x, y, color=c)\n",
    "    if figure:\n",
    "        ax.set(xlabel=\"time\", ylabel=\"amount\")\n",
    "    else:\n",
    "        ax.xlabel(\"time\")\n",
    "        ax.ylabel(\"amount\")\n",
    "    if show:\n",
    "        ax.show()\n",
    "\n",
    "f, (ax1, ax2) = plt.subplots(1, 2, figsize=(16, 5))\n",
    "plot_user(transcript, \"b64b461c1e4547359eb09ad574ff6f5d\", False, ax1)\n",
    "plot_user(transcript, \"d015bf9545c1465d8328a18c8a825226\", False, ax2)\n"
   ]
  },
  {
   "cell_type": "markdown",
   "metadata": {},
   "source": [
    "The gray dots are transactions. Red, yellow and green indicate the steps in the offerings, like a stoplight. Red is an *offer received* event, orange is *offer viewed*, and the green line indicates an *offer completed* event. The green line always accompanies a transaction. The amount on the y-axis is the spent amount for transactions and the difficulty for other events. Offers with a difficulty of 0 are informational offerings.\n",
    "\n",
    "The first graph has an outlier in the transactions. This is the transaction of around $ 350, while other transactions are 40 or lower. 350 seems to be a very high amount to spend at the register. There is no additional information available on these transactions."
   ]
  },
  {
   "cell_type": "markdown",
   "metadata": {},
   "source": [
    "## Preparation of data"
   ]
  },
  {
   "cell_type": "markdown",
   "metadata": {},
   "source": [
    "Translate the age of 118 into NaN, to indicate a missing value."
   ]
  },
  {
   "cell_type": "code",
   "execution_count": 19,
   "metadata": {
    "scrolled": true
   },
   "outputs": [
    {
     "data": {
      "text/html": [
       "<div>\n",
       "<style scoped>\n",
       "    .dataframe tbody tr th:only-of-type {\n",
       "        vertical-align: middle;\n",
       "    }\n",
       "\n",
       "    .dataframe tbody tr th {\n",
       "        vertical-align: top;\n",
       "    }\n",
       "\n",
       "    .dataframe thead th {\n",
       "        text-align: right;\n",
       "    }\n",
       "</style>\n",
       "<table border=\"1\" class=\"dataframe\">\n",
       "  <thead>\n",
       "    <tr style=\"text-align: right;\">\n",
       "      <th></th>\n",
       "      <th>gender</th>\n",
       "      <th>age</th>\n",
       "      <th>profile_id</th>\n",
       "      <th>became_member_on</th>\n",
       "      <th>income</th>\n",
       "    </tr>\n",
       "  </thead>\n",
       "  <tbody>\n",
       "    <tr>\n",
       "      <td>0</td>\n",
       "      <td>None</td>\n",
       "      <td>NaN</td>\n",
       "      <td>68be06ca386d4c31939f3a4f0e3dd783</td>\n",
       "      <td>20170212</td>\n",
       "      <td>NaN</td>\n",
       "    </tr>\n",
       "    <tr>\n",
       "      <td>1</td>\n",
       "      <td>F</td>\n",
       "      <td>55.0</td>\n",
       "      <td>0610b486422d4921ae7d2bf64640c50b</td>\n",
       "      <td>20170715</td>\n",
       "      <td>112000.0</td>\n",
       "    </tr>\n",
       "    <tr>\n",
       "      <td>2</td>\n",
       "      <td>None</td>\n",
       "      <td>NaN</td>\n",
       "      <td>38fe809add3b4fcf9315a9694bb96ff5</td>\n",
       "      <td>20180712</td>\n",
       "      <td>NaN</td>\n",
       "    </tr>\n",
       "    <tr>\n",
       "      <td>3</td>\n",
       "      <td>F</td>\n",
       "      <td>75.0</td>\n",
       "      <td>78afa995795e4d85b5d9ceeca43f5fef</td>\n",
       "      <td>20170509</td>\n",
       "      <td>100000.0</td>\n",
       "    </tr>\n",
       "    <tr>\n",
       "      <td>4</td>\n",
       "      <td>None</td>\n",
       "      <td>NaN</td>\n",
       "      <td>a03223e636434f42ac4c3df47e8bac43</td>\n",
       "      <td>20170804</td>\n",
       "      <td>NaN</td>\n",
       "    </tr>\n",
       "  </tbody>\n",
       "</table>\n",
       "</div>"
      ],
      "text/plain": [
       "  gender   age                        profile_id  became_member_on    income\n",
       "0   None   NaN  68be06ca386d4c31939f3a4f0e3dd783          20170212       NaN\n",
       "1      F  55.0  0610b486422d4921ae7d2bf64640c50b          20170715  112000.0\n",
       "2   None   NaN  38fe809add3b4fcf9315a9694bb96ff5          20180712       NaN\n",
       "3      F  75.0  78afa995795e4d85b5d9ceeca43f5fef          20170509  100000.0\n",
       "4   None   NaN  a03223e636434f42ac4c3df47e8bac43          20170804       NaN"
      ]
     },
     "execution_count": 19,
     "metadata": {},
     "output_type": "execute_result"
    }
   ],
   "source": [
    "profile['age'] = list(map(lambda i : np.nan if i == 118 else i, profile.age.values))\n",
    "profile.head()"
   ]
  },
  {
   "cell_type": "markdown",
   "metadata": {},
   "source": [
    "Extrat the data from the value column in the transcript data."
   ]
  },
  {
   "cell_type": "code",
   "execution_count": 20,
   "metadata": {},
   "outputs": [],
   "source": [
    "# Note that 'offer id' is used in 'offer viewed' and 'offer_id' for 'offer completed' events (with underscore).\n",
    "transcript['offer_id'] = list(map(lambda i : i['offer id'] if ('offer id' in i) else (i['offer_id'] if ('offer_id' in i) else None), transcript.value.values))\n",
    "transcript['amount'] = list(map(lambda i : i['amount'] if ('amount' in i) else np.nan, transcript.value.values))\n",
    "\n",
    "# Call this column 'transaction_reward' to not confuse it with column in portfolio.\n",
    "transcript['transaction_reward'] = list(map(lambda i : i['reward'] if ('reward' in i) else np.nan, transcript.value.values))\n",
    "transcript = transcript.drop(columns=['value'])"
   ]
  },
  {
   "cell_type": "code",
   "execution_count": 21,
   "metadata": {},
   "outputs": [
    {
     "data": {
      "text/html": [
       "<div>\n",
       "<style scoped>\n",
       "    .dataframe tbody tr th:only-of-type {\n",
       "        vertical-align: middle;\n",
       "    }\n",
       "\n",
       "    .dataframe tbody tr th {\n",
       "        vertical-align: top;\n",
       "    }\n",
       "\n",
       "    .dataframe thead th {\n",
       "        text-align: right;\n",
       "    }\n",
       "</style>\n",
       "<table border=\"1\" class=\"dataframe\">\n",
       "  <thead>\n",
       "    <tr style=\"text-align: right;\">\n",
       "      <th></th>\n",
       "      <th>time</th>\n",
       "      <th>amount</th>\n",
       "      <th>transaction_reward</th>\n",
       "    </tr>\n",
       "  </thead>\n",
       "  <tbody>\n",
       "    <tr>\n",
       "      <td>count</td>\n",
       "      <td>306534.000000</td>\n",
       "      <td>138953.000000</td>\n",
       "      <td>33579.000000</td>\n",
       "    </tr>\n",
       "    <tr>\n",
       "      <td>mean</td>\n",
       "      <td>366.382940</td>\n",
       "      <td>12.777356</td>\n",
       "      <td>4.904137</td>\n",
       "    </tr>\n",
       "    <tr>\n",
       "      <td>std</td>\n",
       "      <td>200.326314</td>\n",
       "      <td>30.250529</td>\n",
       "      <td>2.886647</td>\n",
       "    </tr>\n",
       "    <tr>\n",
       "      <td>min</td>\n",
       "      <td>0.000000</td>\n",
       "      <td>0.050000</td>\n",
       "      <td>2.000000</td>\n",
       "    </tr>\n",
       "    <tr>\n",
       "      <td>25%</td>\n",
       "      <td>186.000000</td>\n",
       "      <td>2.780000</td>\n",
       "      <td>2.000000</td>\n",
       "    </tr>\n",
       "    <tr>\n",
       "      <td>50%</td>\n",
       "      <td>408.000000</td>\n",
       "      <td>8.890000</td>\n",
       "      <td>5.000000</td>\n",
       "    </tr>\n",
       "    <tr>\n",
       "      <td>75%</td>\n",
       "      <td>528.000000</td>\n",
       "      <td>18.070000</td>\n",
       "      <td>5.000000</td>\n",
       "    </tr>\n",
       "    <tr>\n",
       "      <td>max</td>\n",
       "      <td>714.000000</td>\n",
       "      <td>1062.280000</td>\n",
       "      <td>10.000000</td>\n",
       "    </tr>\n",
       "  </tbody>\n",
       "</table>\n",
       "</div>"
      ],
      "text/plain": [
       "                time         amount  transaction_reward\n",
       "count  306534.000000  138953.000000        33579.000000\n",
       "mean      366.382940      12.777356            4.904137\n",
       "std       200.326314      30.250529            2.886647\n",
       "min         0.000000       0.050000            2.000000\n",
       "25%       186.000000       2.780000            2.000000\n",
       "50%       408.000000       8.890000            5.000000\n",
       "75%       528.000000      18.070000            5.000000\n",
       "max       714.000000    1062.280000           10.000000"
      ]
     },
     "execution_count": 21,
     "metadata": {},
     "output_type": "execute_result"
    }
   ],
   "source": [
    "transcript.describe()"
   ]
  },
  {
   "cell_type": "markdown",
   "metadata": {},
   "source": [
    "This allows us to plot the amount."
   ]
  },
  {
   "cell_type": "code",
   "execution_count": 22,
   "metadata": {},
   "outputs": [
    {
     "data": {
      "text/plain": [
       "<matplotlib.axes._subplots.AxesSubplot at 0x7f48186e0cf8>"
      ]
     },
     "execution_count": 22,
     "metadata": {},
     "output_type": "execute_result"
    },
    {
     "data": {
      "image/png": "[encoded data removed]",
      "text/plain": [
       "<Figure size 432x288 with 1 Axes>"
      ]
     },
     "metadata": {
      "needs_background": "light"
     },
     "output_type": "display_data"
    }
   ],
   "source": [
    "sns.distplot(transcript[transcript.event == 'transaction'].amount)"
   ]
  },
  {
   "cell_type": "markdown",
   "metadata": {},
   "source": [
    "There are outliers, as already abserved, even above $ 1000. But there are only a very few of them.\n",
    "We can also plot the transactions below 50."
   ]
  },
  {
   "cell_type": "code",
   "execution_count": 23,
   "metadata": {},
   "outputs": [
    {
     "data": {
      "text/plain": [
       "<matplotlib.axes._subplots.AxesSubplot at 0x7f481867a940>"
      ]
     },
     "execution_count": 23,
     "metadata": {},
     "output_type": "execute_result"
    },
    {
     "data": {
      "image/png": "[encoded data removed]",
      "text/plain": [
       "<Figure size 432x288 with 1 Axes>"
      ]
     },
     "metadata": {
      "needs_background": "light"
     },
     "output_type": "display_data"
    }
   ],
   "source": [
    "sns.distplot(transcript[transcript['amount'] < 50].amount)"
   ]
  },
  {
   "cell_type": "markdown",
   "metadata": {},
   "source": [
    "The *channels* field in portfolio has multiple labels. We want to one-hot encode this column before we do any modelling."
   ]
  },
  {
   "cell_type": "code",
   "execution_count": 24,
   "metadata": {},
   "outputs": [],
   "source": [
    "for field in ['web', 'email', 'mobile', 'social']:\n",
    "    portfolio[field] = list(map(lambda i : 1 if field in i else 0, portfolio.channels))\n",
    "portfolio = portfolio.drop(columns=['channels'])"
   ]
  },
  {
   "cell_type": "code",
   "execution_count": 25,
   "metadata": {},
   "outputs": [],
   "source": [
    "profile = profile.set_index('profile_id')\n",
    "portfolio = portfolio.set_index('offer_id')"
   ]
  },
  {
   "cell_type": "markdown",
   "metadata": {},
   "source": [
    "Split off a testset from the profile dataframe. Profiles are linked to transcript data. Therefore, this split implicitly also splits the transcripts in train and test data. We split them here instead of combining all sets first because we want to analyse the transactions per profile."
   ]
  },
  {
   "cell_type": "code",
   "execution_count": 26,
   "metadata": {},
   "outputs": [],
   "source": [
    "profile, profile_test = train_test_split(profile, test_size=0.25, random_state=42)"
   ]
  },
  {
   "cell_type": "markdown",
   "metadata": {},
   "source": [
    "Build a dataframe that combines all sources. We have to do this for training and testing data. The inner join to profile makes sure that the train/test split is maintained in the new dataframes."
   ]
  },
  {
   "cell_type": "code",
   "execution_count": 27,
   "metadata": {},
   "outputs": [
    {
     "data": {
      "text/plain": [
       "(229700, 76834)"
      ]
     },
     "execution_count": 27,
     "metadata": {},
     "output_type": "execute_result"
    }
   ],
   "source": [
    "df = transcript.join(profile, on='profile_id', how='inner')\n",
    "df = df.join(portfolio, on='offer_id')\n",
    "\n",
    "df_test = transcript.join(profile_test, on='profile_id', how='inner')\n",
    "df_test = df_test.join(portfolio, on='offer_id')\n",
    "\n",
    "df.shape[0], df_test.shape[0]"
   ]
  },
  {
   "cell_type": "markdown",
   "metadata": {},
   "source": [
    "### Used offers"
   ]
  },
  {
   "cell_type": "markdown",
   "metadata": {},
   "source": [
    "Normally, offers have an *offer received* event, followed by *offer viewed* and *offer completed*. There must be a transaction accompanying an *offer completed* event. However, informational offers do not get an *offer completed* event, but are completed when viewed. And it is also possible that an offer is completed without being viewed. The offer has not affected the transaction in that case, and we should not mark them as completed.\n",
    "\n",
    "Now build an *offers_used* dataframe that only contains offers that are used, by the criteria set."
   ]
  },
  {
   "cell_type": "code",
   "execution_count": 28,
   "metadata": {},
   "outputs": [],
   "source": [
    "def get_merged_offers(df):\n",
    "    offers_viewed = df[df.event == \"offer viewed\"]\n",
    "    offers_completed = df[df.event == \"offer completed\"]\n",
    "    return pd.merge(offers_viewed, offers_completed, on=['offer_id', 'profile_id'], how='left', sort=False, suffixes=('_viewed', '_completed')) "
   ]
  },
  {
   "cell_type": "code",
   "execution_count": 29,
   "metadata": {},
   "outputs": [],
   "source": [
    "def get_used_offers(df, filter_unused=True):\n",
    "    offers_merged = get_merged_offers(df)\n",
    "\n",
    "    offers_merged['id'] = offers_merged.index.values\n",
    "    offers_with_transactions = pd.merge(offers_merged[offers_merged.offer_type_viewed == 'informational'], transcript[transcript.event == 'transaction'], on='profile_id', how='left', sort=False)\n",
    "\n",
    "    # Filter transactions that were viewed before this offer.\n",
    "    offers_with_transactions = offers_with_transactions[offers_with_transactions.time_viewed <= offers_with_transactions.time]\n",
    "\n",
    "    times = offers_with_transactions[['id', 'time']].groupby('id').min()\n",
    "    times = times.rename(columns={\"time\": \"time_completed\"})\n",
    "    offers_merged = offers_merged.copy()\n",
    "    offers_merged.update(times)\n",
    "\n",
    "    offers_merged['used'] = offers_merged.time_completed >= offers_merged.time_viewed\n",
    "    \n",
    "    if filter_unused:\n",
    "        offers_merged = offers_merged[offers_merged.used == True]\n",
    "\n",
    "    return offers_merged.copy()"
   ]
  },
  {
   "cell_type": "code",
   "execution_count": 30,
   "metadata": {},
   "outputs": [
    {
     "data": {
      "text/plain": [
       "(29116, 36)"
      ]
     },
     "execution_count": 30,
     "metadata": {},
     "output_type": "execute_result"
    }
   ],
   "source": [
    "offers_used = get_used_offers(df)\n",
    "offers_used.shape"
   ]
  },
  {
   "cell_type": "markdown",
   "metadata": {},
   "source": [
    "Each offer has a duration for which it remains valid. We can check the response time by subtracting the time for the 'offer viewed' event from the time of the 'offer completed' event. It should not exceed the duration. Note that time is given in hours and duration in days."
   ]
  },
  {
   "cell_type": "code",
   "execution_count": 31,
   "metadata": {},
   "outputs": [
    {
     "data": {
      "text/plain": [
       "(4986, 37)"
      ]
     },
     "execution_count": 31,
     "metadata": {},
     "output_type": "execute_result"
    }
   ],
   "source": [
    "offers_used['exceeds_duration'] = (offers_used.time_completed - offers_used.time_viewed) > offers_used.duration_viewed * 24\n",
    "offers_used[offers_used.exceeds_duration].shape"
   ]
  },
  {
   "cell_type": "markdown",
   "metadata": {},
   "source": [
    "Looks like 17% of the offer completed records are too late and thus not valid anymore. Remove these orders from the offers_used dataframe."
   ]
  },
  {
   "cell_type": "code",
   "execution_count": 32,
   "metadata": {},
   "outputs": [
    {
     "data": {
      "text/plain": [
       "(24130, 37)"
      ]
     },
     "execution_count": 32,
     "metadata": {},
     "output_type": "execute_result"
    }
   ],
   "source": [
    "offers_used = offers_used[offers_used.exceeds_duration != True]\n",
    "offers_used.shape"
   ]
  },
  {
   "cell_type": "markdown",
   "metadata": {},
   "source": [
    "Now that we have a list of used offers, we can add some figures to the portfolio dataframe."
   ]
  },
  {
   "cell_type": "code",
   "execution_count": 33,
   "metadata": {},
   "outputs": [
    {
     "data": {
      "text/html": [
       "<div>\n",
       "<style scoped>\n",
       "    .dataframe tbody tr th:only-of-type {\n",
       "        vertical-align: middle;\n",
       "    }\n",
       "\n",
       "    .dataframe tbody tr th {\n",
       "        vertical-align: top;\n",
       "    }\n",
       "\n",
       "    .dataframe thead th {\n",
       "        text-align: right;\n",
       "    }\n",
       "</style>\n",
       "<table border=\"1\" class=\"dataframe\">\n",
       "  <thead>\n",
       "    <tr style=\"text-align: right;\">\n",
       "      <th></th>\n",
       "      <th>reward</th>\n",
       "      <th>difficulty</th>\n",
       "      <th>duration</th>\n",
       "      <th>offer_type</th>\n",
       "      <th>web</th>\n",
       "      <th>email</th>\n",
       "      <th>mobile</th>\n",
       "      <th>social</th>\n",
       "      <th>issued</th>\n",
       "      <th>used</th>\n",
       "      <th>used_pct</th>\n",
       "    </tr>\n",
       "    <tr>\n",
       "      <th>offer_id</th>\n",
       "      <th></th>\n",
       "      <th></th>\n",
       "      <th></th>\n",
       "      <th></th>\n",
       "      <th></th>\n",
       "      <th></th>\n",
       "      <th></th>\n",
       "      <th></th>\n",
       "      <th></th>\n",
       "      <th></th>\n",
       "      <th></th>\n",
       "    </tr>\n",
       "  </thead>\n",
       "  <tbody>\n",
       "    <tr>\n",
       "      <td>3f207df678b143eea3cee63160fa8bed</td>\n",
       "      <td>0</td>\n",
       "      <td>0</td>\n",
       "      <td>4</td>\n",
       "      <td>informational</td>\n",
       "      <td>1</td>\n",
       "      <td>1</td>\n",
       "      <td>1</td>\n",
       "      <td>0</td>\n",
       "      <td>3119</td>\n",
       "      <td>2053</td>\n",
       "      <td>65.822379</td>\n",
       "    </tr>\n",
       "    <tr>\n",
       "      <td>5a8bc65990b245e5a138643cd4eb9837</td>\n",
       "      <td>0</td>\n",
       "      <td>0</td>\n",
       "      <td>3</td>\n",
       "      <td>informational</td>\n",
       "      <td>0</td>\n",
       "      <td>1</td>\n",
       "      <td>1</td>\n",
       "      <td>1</td>\n",
       "      <td>4984</td>\n",
       "      <td>3183</td>\n",
       "      <td>63.864366</td>\n",
       "    </tr>\n",
       "    <tr>\n",
       "      <td>fafdcd668e3743c1bb461111dcafc2a4</td>\n",
       "      <td>2</td>\n",
       "      <td>10</td>\n",
       "      <td>10</td>\n",
       "      <td>discount</td>\n",
       "      <td>1</td>\n",
       "      <td>1</td>\n",
       "      <td>1</td>\n",
       "      <td>1</td>\n",
       "      <td>6729</td>\n",
       "      <td>3843</td>\n",
       "      <td>57.111012</td>\n",
       "    </tr>\n",
       "    <tr>\n",
       "      <td>2298d6c36e964ae4a3e7e9706d1fb8c2</td>\n",
       "      <td>3</td>\n",
       "      <td>7</td>\n",
       "      <td>7</td>\n",
       "      <td>discount</td>\n",
       "      <td>1</td>\n",
       "      <td>1</td>\n",
       "      <td>1</td>\n",
       "      <td>1</td>\n",
       "      <td>6672</td>\n",
       "      <td>3471</td>\n",
       "      <td>52.023381</td>\n",
       "    </tr>\n",
       "    <tr>\n",
       "      <td>0b1e1539f2cc45b7b9fa7c272da2e1d7</td>\n",
       "      <td>5</td>\n",
       "      <td>20</td>\n",
       "      <td>10</td>\n",
       "      <td>discount</td>\n",
       "      <td>1</td>\n",
       "      <td>1</td>\n",
       "      <td>0</td>\n",
       "      <td>0</td>\n",
       "      <td>2356</td>\n",
       "      <td>1118</td>\n",
       "      <td>47.453311</td>\n",
       "    </tr>\n",
       "    <tr>\n",
       "      <td>2906b810c7d4411798c6938adc9daaa5</td>\n",
       "      <td>2</td>\n",
       "      <td>10</td>\n",
       "      <td>7</td>\n",
       "      <td>discount</td>\n",
       "      <td>1</td>\n",
       "      <td>1</td>\n",
       "      <td>1</td>\n",
       "      <td>0</td>\n",
       "      <td>3687</td>\n",
       "      <td>1710</td>\n",
       "      <td>46.379170</td>\n",
       "    </tr>\n",
       "    <tr>\n",
       "      <td>9b98b8c7a33c4b65b9aebfe6a799e6d9</td>\n",
       "      <td>5</td>\n",
       "      <td>5</td>\n",
       "      <td>7</td>\n",
       "      <td>bogo</td>\n",
       "      <td>1</td>\n",
       "      <td>1</td>\n",
       "      <td>1</td>\n",
       "      <td>0</td>\n",
       "      <td>3708</td>\n",
       "      <td>1681</td>\n",
       "      <td>45.334412</td>\n",
       "    </tr>\n",
       "    <tr>\n",
       "      <td>f19421c1d4aa40978ebb69ca19b0e20d</td>\n",
       "      <td>5</td>\n",
       "      <td>5</td>\n",
       "      <td>5</td>\n",
       "      <td>bogo</td>\n",
       "      <td>1</td>\n",
       "      <td>1</td>\n",
       "      <td>1</td>\n",
       "      <td>1</td>\n",
       "      <td>6428</td>\n",
       "      <td>2778</td>\n",
       "      <td>43.217175</td>\n",
       "    </tr>\n",
       "    <tr>\n",
       "      <td>ae264e3637204a6fb9bb56bc8210ddfd</td>\n",
       "      <td>10</td>\n",
       "      <td>10</td>\n",
       "      <td>7</td>\n",
       "      <td>bogo</td>\n",
       "      <td>0</td>\n",
       "      <td>1</td>\n",
       "      <td>1</td>\n",
       "      <td>1</td>\n",
       "      <td>5863</td>\n",
       "      <td>2139</td>\n",
       "      <td>36.483029</td>\n",
       "    </tr>\n",
       "    <tr>\n",
       "      <td>4d5c57ea9a6940dd891ad53e9dbe8da0</td>\n",
       "      <td>10</td>\n",
       "      <td>10</td>\n",
       "      <td>5</td>\n",
       "      <td>bogo</td>\n",
       "      <td>1</td>\n",
       "      <td>1</td>\n",
       "      <td>1</td>\n",
       "      <td>1</td>\n",
       "      <td>6128</td>\n",
       "      <td>2154</td>\n",
       "      <td>35.150131</td>\n",
       "    </tr>\n",
       "  </tbody>\n",
       "</table>\n",
       "</div>"
      ],
      "text/plain": [
       "                                  reward  difficulty  duration     offer_type  \\\n",
       "offer_id                                                                        \n",
       "3f207df678b143eea3cee63160fa8bed       0           0         4  informational   \n",
       "5a8bc65990b245e5a138643cd4eb9837       0           0         3  informational   \n",
       "fafdcd668e3743c1bb461111dcafc2a4       2          10        10       discount   \n",
       "2298d6c36e964ae4a3e7e9706d1fb8c2       3           7         7       discount   \n",
       "0b1e1539f2cc45b7b9fa7c272da2e1d7       5          20        10       discount   \n",
       "2906b810c7d4411798c6938adc9daaa5       2          10         7       discount   \n",
       "9b98b8c7a33c4b65b9aebfe6a799e6d9       5           5         7           bogo   \n",
       "f19421c1d4aa40978ebb69ca19b0e20d       5           5         5           bogo   \n",
       "ae264e3637204a6fb9bb56bc8210ddfd      10          10         7           bogo   \n",
       "4d5c57ea9a6940dd891ad53e9dbe8da0      10          10         5           bogo   \n",
       "\n",
       "                                  web  email  mobile  social  issued  used  \\\n",
       "offer_id                                                                     \n",
       "3f207df678b143eea3cee63160fa8bed    1      1       1       0    3119  2053   \n",
       "5a8bc65990b245e5a138643cd4eb9837    0      1       1       1    4984  3183   \n",
       "fafdcd668e3743c1bb461111dcafc2a4    1      1       1       1    6729  3843   \n",
       "2298d6c36e964ae4a3e7e9706d1fb8c2    1      1       1       1    6672  3471   \n",
       "0b1e1539f2cc45b7b9fa7c272da2e1d7    1      1       0       0    2356  1118   \n",
       "2906b810c7d4411798c6938adc9daaa5    1      1       1       0    3687  1710   \n",
       "9b98b8c7a33c4b65b9aebfe6a799e6d9    1      1       1       0    3708  1681   \n",
       "f19421c1d4aa40978ebb69ca19b0e20d    1      1       1       1    6428  2778   \n",
       "ae264e3637204a6fb9bb56bc8210ddfd    0      1       1       1    5863  2139   \n",
       "4d5c57ea9a6940dd891ad53e9dbe8da0    1      1       1       1    6128  2154   \n",
       "\n",
       "                                   used_pct  \n",
       "offer_id                                     \n",
       "3f207df678b143eea3cee63160fa8bed  65.822379  \n",
       "5a8bc65990b245e5a138643cd4eb9837  63.864366  \n",
       "fafdcd668e3743c1bb461111dcafc2a4  57.111012  \n",
       "2298d6c36e964ae4a3e7e9706d1fb8c2  52.023381  \n",
       "0b1e1539f2cc45b7b9fa7c272da2e1d7  47.453311  \n",
       "2906b810c7d4411798c6938adc9daaa5  46.379170  \n",
       "9b98b8c7a33c4b65b9aebfe6a799e6d9  45.334412  \n",
       "f19421c1d4aa40978ebb69ca19b0e20d  43.217175  \n",
       "ae264e3637204a6fb9bb56bc8210ddfd  36.483029  \n",
       "4d5c57ea9a6940dd891ad53e9dbe8da0  35.150131  "
      ]
     },
     "execution_count": 33,
     "metadata": {},
     "output_type": "execute_result"
    }
   ],
   "source": [
    "offers_merged = get_merged_offers(df)\n",
    "portfolio['issued'] = offers_merged.offer_id.value_counts()\n",
    "portfolio['used'] = offers_used.offer_id.value_counts()\n",
    "portfolio['used_pct'] = portfolio.used / portfolio.issued * 100\n",
    "portfolio.sort_values('used_pct', ascending=False)"
   ]
  },
  {
   "cell_type": "markdown",
   "metadata": {},
   "source": [
    "This gives us a first impression on which offers are popular, in terms of how likely it is that they get completed."
   ]
  },
  {
   "cell_type": "markdown",
   "metadata": {},
   "source": [
    "## Modelling\n",
    "\n",
    "We want to know the increase in turnover, per offering and related to demographic features.\n",
    "To measure the increase, we need a baseline of the turnover that is not affected by the offers. Let's check the number of persons that have never seen an offer."
   ]
  },
  {
   "cell_type": "code",
   "execution_count": 34,
   "metadata": {},
   "outputs": [
    {
     "name": "stdout",
     "output_type": "stream",
     "text": [
      "12750\n",
      "133\n"
     ]
    }
   ],
   "source": [
    "profile_count = len(df.profile_id.unique())\n",
    "profile_viewed_count = len(df[df.event == 'offer viewed'].profile_id.unique())\n",
    "print(profile_count)\n",
    "print(profile_count - profile_viewed_count)"
   ]
  },
  {
   "cell_type": "markdown",
   "metadata": {},
   "source": [
    "There are only 166 of them. And those persons might not be representative for all users. Hence we cannot extract the desired baseline. As a result, we can only make conclusions that are relative to other offerings (\"offer A is better than B\"). This is still a useful thing to do. We still can drop negative results, since we know that we can do better.\n",
    "\n",
    "The first offer is at t = 0 and the second at t = 168. Each user got only a single offer, so all transactions before t = 168 are affected only by this offer. Transactions from t=168 are affected by multiple offers, and hence are more difficult to use for analysis.\n",
    "\n",
    "First, we will analyse the period before t = 168. This period includes all different orders so that we can calculate the average turnover per offer. This data can then be used to calculate means per offer type, channel or gender.\n",
    "\n",
    "Later, we will use all used offers in our analysis. We measure impact by comparing the turnover in the week before and the week after the *offer viewed* event. We will generate the same figures from this data so that we can compare the results from both methods.\n",
    "\n",
    "The calculated increase in turnover will be used in a classification model to predict if this value is negative or positive. We will do this for all used offers. Another model will predict if offers will be used.\n",
    "\n",
    "### Model metrics\n",
    "Both false negatives neither false positives are a big deal in this context. Therefore, recall and precision scores do not seem to fit. Also, the classes are more-or-less balanced. Hence, the accuracy score seems to fit the best for our purpose."
   ]
  },
  {
   "cell_type": "markdown",
   "metadata": {},
   "source": [
    "## Analyzing the first offer"
   ]
  },
  {
   "cell_type": "markdown",
   "metadata": {},
   "source": [
    "First, create a dataframe containing the used offers in the first week."
   ]
  },
  {
   "cell_type": "code",
   "execution_count": 35,
   "metadata": {},
   "outputs": [
    {
     "data": {
      "text/html": [
       "<div>\n",
       "<style scoped>\n",
       "    .dataframe tbody tr th:only-of-type {\n",
       "        vertical-align: middle;\n",
       "    }\n",
       "\n",
       "    .dataframe tbody tr th {\n",
       "        vertical-align: top;\n",
       "    }\n",
       "\n",
       "    .dataframe thead th {\n",
       "        text-align: right;\n",
       "    }\n",
       "</style>\n",
       "<table border=\"1\" class=\"dataframe\">\n",
       "  <thead>\n",
       "    <tr style=\"text-align: right;\">\n",
       "      <th></th>\n",
       "      <th>profile_id</th>\n",
       "      <th>event_viewed</th>\n",
       "      <th>time_viewed</th>\n",
       "      <th>offer_id</th>\n",
       "      <th>amount_viewed</th>\n",
       "      <th>transaction_reward_viewed</th>\n",
       "      <th>gender_viewed</th>\n",
       "      <th>age_viewed</th>\n",
       "      <th>became_member_on_viewed</th>\n",
       "      <th>income_viewed</th>\n",
       "      <th>...</th>\n",
       "      <th>difficulty_offer</th>\n",
       "      <th>duration_offer</th>\n",
       "      <th>offer_type</th>\n",
       "      <th>web</th>\n",
       "      <th>email</th>\n",
       "      <th>mobile</th>\n",
       "      <th>social</th>\n",
       "      <th>issued</th>\n",
       "      <th>used_offer</th>\n",
       "      <th>used_pct</th>\n",
       "    </tr>\n",
       "  </thead>\n",
       "  <tbody>\n",
       "    <tr>\n",
       "      <td>0</td>\n",
       "      <td>c27e0d6ab72c455a8bb66d980963de60</td>\n",
       "      <td>offer viewed</td>\n",
       "      <td>18</td>\n",
       "      <td>3f207df678b143eea3cee63160fa8bed</td>\n",
       "      <td>NaN</td>\n",
       "      <td>NaN</td>\n",
       "      <td>F</td>\n",
       "      <td>78.0</td>\n",
       "      <td>20170616</td>\n",
       "      <td>71000.0</td>\n",
       "      <td>...</td>\n",
       "      <td>0</td>\n",
       "      <td>4</td>\n",
       "      <td>informational</td>\n",
       "      <td>1</td>\n",
       "      <td>1</td>\n",
       "      <td>1</td>\n",
       "      <td>0</td>\n",
       "      <td>3119</td>\n",
       "      <td>2053</td>\n",
       "      <td>65.822379</td>\n",
       "    </tr>\n",
       "    <tr>\n",
       "      <td>1</td>\n",
       "      <td>6747dda08bed46298c23e05b64820a3a</td>\n",
       "      <td>offer viewed</td>\n",
       "      <td>12</td>\n",
       "      <td>3f207df678b143eea3cee63160fa8bed</td>\n",
       "      <td>NaN</td>\n",
       "      <td>NaN</td>\n",
       "      <td>M</td>\n",
       "      <td>71.0</td>\n",
       "      <td>20170129</td>\n",
       "      <td>57000.0</td>\n",
       "      <td>...</td>\n",
       "      <td>0</td>\n",
       "      <td>4</td>\n",
       "      <td>informational</td>\n",
       "      <td>1</td>\n",
       "      <td>1</td>\n",
       "      <td>1</td>\n",
       "      <td>0</td>\n",
       "      <td>3119</td>\n",
       "      <td>2053</td>\n",
       "      <td>65.822379</td>\n",
       "    </tr>\n",
       "    <tr>\n",
       "      <td>2</td>\n",
       "      <td>65f06566a2a14f64b003964f211635e1</td>\n",
       "      <td>offer viewed</td>\n",
       "      <td>48</td>\n",
       "      <td>3f207df678b143eea3cee63160fa8bed</td>\n",
       "      <td>NaN</td>\n",
       "      <td>NaN</td>\n",
       "      <td>M</td>\n",
       "      <td>25.0</td>\n",
       "      <td>20151027</td>\n",
       "      <td>68000.0</td>\n",
       "      <td>...</td>\n",
       "      <td>0</td>\n",
       "      <td>4</td>\n",
       "      <td>informational</td>\n",
       "      <td>1</td>\n",
       "      <td>1</td>\n",
       "      <td>1</td>\n",
       "      <td>0</td>\n",
       "      <td>3119</td>\n",
       "      <td>2053</td>\n",
       "      <td>65.822379</td>\n",
       "    </tr>\n",
       "    <tr>\n",
       "      <td>3</td>\n",
       "      <td>2c5c71b7bfaa4e3e8088fc177e6e559b</td>\n",
       "      <td>offer viewed</td>\n",
       "      <td>114</td>\n",
       "      <td>3f207df678b143eea3cee63160fa8bed</td>\n",
       "      <td>NaN</td>\n",
       "      <td>NaN</td>\n",
       "      <td>M</td>\n",
       "      <td>89.0</td>\n",
       "      <td>20150917</td>\n",
       "      <td>101000.0</td>\n",
       "      <td>...</td>\n",
       "      <td>0</td>\n",
       "      <td>4</td>\n",
       "      <td>informational</td>\n",
       "      <td>1</td>\n",
       "      <td>1</td>\n",
       "      <td>1</td>\n",
       "      <td>0</td>\n",
       "      <td>3119</td>\n",
       "      <td>2053</td>\n",
       "      <td>65.822379</td>\n",
       "    </tr>\n",
       "    <tr>\n",
       "      <td>4</td>\n",
       "      <td>2c3a4de659584bed8d27cfd865f06928</td>\n",
       "      <td>offer viewed</td>\n",
       "      <td>24</td>\n",
       "      <td>3f207df678b143eea3cee63160fa8bed</td>\n",
       "      <td>NaN</td>\n",
       "      <td>NaN</td>\n",
       "      <td>F</td>\n",
       "      <td>30.0</td>\n",
       "      <td>20171015</td>\n",
       "      <td>40000.0</td>\n",
       "      <td>...</td>\n",
       "      <td>0</td>\n",
       "      <td>4</td>\n",
       "      <td>informational</td>\n",
       "      <td>1</td>\n",
       "      <td>1</td>\n",
       "      <td>1</td>\n",
       "      <td>0</td>\n",
       "      <td>3119</td>\n",
       "      <td>2053</td>\n",
       "      <td>65.822379</td>\n",
       "    </tr>\n",
       "  </tbody>\n",
       "</table>\n",
       "<p>5 rows × 57 columns</p>\n",
       "</div>"
      ],
      "text/plain": [
       "                         profile_id  event_viewed  time_viewed  \\\n",
       "0  c27e0d6ab72c455a8bb66d980963de60  offer viewed           18   \n",
       "1  6747dda08bed46298c23e05b64820a3a  offer viewed           12   \n",
       "2  65f06566a2a14f64b003964f211635e1  offer viewed           48   \n",
       "3  2c5c71b7bfaa4e3e8088fc177e6e559b  offer viewed          114   \n",
       "4  2c3a4de659584bed8d27cfd865f06928  offer viewed           24   \n",
       "\n",
       "                           offer_id  amount_viewed  transaction_reward_viewed  \\\n",
       "0  3f207df678b143eea3cee63160fa8bed            NaN                        NaN   \n",
       "1  3f207df678b143eea3cee63160fa8bed            NaN                        NaN   \n",
       "2  3f207df678b143eea3cee63160fa8bed            NaN                        NaN   \n",
       "3  3f207df678b143eea3cee63160fa8bed            NaN                        NaN   \n",
       "4  3f207df678b143eea3cee63160fa8bed            NaN                        NaN   \n",
       "\n",
       "  gender_viewed  age_viewed  became_member_on_viewed  income_viewed  ...  \\\n",
       "0             F        78.0                 20170616        71000.0  ...   \n",
       "1             M        71.0                 20170129        57000.0  ...   \n",
       "2             M        25.0                 20151027        68000.0  ...   \n",
       "3             M        89.0                 20150917       101000.0  ...   \n",
       "4             F        30.0                 20171015        40000.0  ...   \n",
       "\n",
       "   difficulty_offer  duration_offer     offer_type web  email  mobile  social  \\\n",
       "0                 0               4  informational   1      1       1       0   \n",
       "1                 0               4  informational   1      1       1       0   \n",
       "2                 0               4  informational   1      1       1       0   \n",
       "3                 0               4  informational   1      1       1       0   \n",
       "4                 0               4  informational   1      1       1       0   \n",
       "\n",
       "   issued used_offer   used_pct  \n",
       "0    3119       2053  65.822379  \n",
       "1    3119       2053  65.822379  \n",
       "2    3119       2053  65.822379  \n",
       "3    3119       2053  65.822379  \n",
       "4    3119       2053  65.822379  \n",
       "\n",
       "[5 rows x 57 columns]"
      ]
     },
     "execution_count": 35,
     "metadata": {},
     "output_type": "execute_result"
    }
   ],
   "source": [
    "profile_first_spendings = df[df.time < 168].groupby('profile_id').sum()\n",
    "first_offers = offers_used[offers_used.time_viewed < 168]\n",
    "\n",
    "first_offers = pd.merge(first_offers, profile_first_spendings, on='profile_id', suffixes=('', '_profile'))\n",
    "first_offers = first_offers.drop(columns=['web', 'mobile', 'email', 'social'])\n",
    "first_offers = pd.merge(first_offers, portfolio, on='offer_id', suffixes=('', '_offer'))\n",
    "first_offers.head()"
   ]
  },
  {
   "cell_type": "markdown",
   "metadata": {},
   "source": [
    "Add the average turnover in the first week to the *portfolio* dataframe."
   ]
  },
  {
   "cell_type": "code",
   "execution_count": 36,
   "metadata": {},
   "outputs": [
    {
     "data": {
      "text/html": [
       "<div>\n",
       "<style scoped>\n",
       "    .dataframe tbody tr th:only-of-type {\n",
       "        vertical-align: middle;\n",
       "    }\n",
       "\n",
       "    .dataframe tbody tr th {\n",
       "        vertical-align: top;\n",
       "    }\n",
       "\n",
       "    .dataframe thead th {\n",
       "        text-align: right;\n",
       "    }\n",
       "</style>\n",
       "<table border=\"1\" class=\"dataframe\">\n",
       "  <thead>\n",
       "    <tr style=\"text-align: right;\">\n",
       "      <th></th>\n",
       "      <th>first_offer_turnover</th>\n",
       "    </tr>\n",
       "    <tr>\n",
       "      <th>offer_id</th>\n",
       "      <th></th>\n",
       "    </tr>\n",
       "  </thead>\n",
       "  <tbody>\n",
       "    <tr>\n",
       "      <td>ae264e3637204a6fb9bb56bc8210ddfd</td>\n",
       "      <td>54.032887</td>\n",
       "    </tr>\n",
       "    <tr>\n",
       "      <td>4d5c57ea9a6940dd891ad53e9dbe8da0</td>\n",
       "      <td>52.496122</td>\n",
       "    </tr>\n",
       "    <tr>\n",
       "      <td>fafdcd668e3743c1bb461111dcafc2a4</td>\n",
       "      <td>49.759284</td>\n",
       "    </tr>\n",
       "    <tr>\n",
       "      <td>f19421c1d4aa40978ebb69ca19b0e20d</td>\n",
       "      <td>46.832470</td>\n",
       "    </tr>\n",
       "    <tr>\n",
       "      <td>2906b810c7d4411798c6938adc9daaa5</td>\n",
       "      <td>46.096893</td>\n",
       "    </tr>\n",
       "    <tr>\n",
       "      <td>2298d6c36e964ae4a3e7e9706d1fb8c2</td>\n",
       "      <td>42.954124</td>\n",
       "    </tr>\n",
       "    <tr>\n",
       "      <td>0b1e1539f2cc45b7b9fa7c272da2e1d7</td>\n",
       "      <td>39.304236</td>\n",
       "    </tr>\n",
       "    <tr>\n",
       "      <td>9b98b8c7a33c4b65b9aebfe6a799e6d9</td>\n",
       "      <td>36.830081</td>\n",
       "    </tr>\n",
       "    <tr>\n",
       "      <td>3f207df678b143eea3cee63160fa8bed</td>\n",
       "      <td>26.276062</td>\n",
       "    </tr>\n",
       "    <tr>\n",
       "      <td>5a8bc65990b245e5a138643cd4eb9837</td>\n",
       "      <td>24.227436</td>\n",
       "    </tr>\n",
       "  </tbody>\n",
       "</table>\n",
       "</div>"
      ],
      "text/plain": [
       "                                  first_offer_turnover\n",
       "offer_id                                              \n",
       "ae264e3637204a6fb9bb56bc8210ddfd             54.032887\n",
       "4d5c57ea9a6940dd891ad53e9dbe8da0             52.496122\n",
       "fafdcd668e3743c1bb461111dcafc2a4             49.759284\n",
       "f19421c1d4aa40978ebb69ca19b0e20d             46.832470\n",
       "2906b810c7d4411798c6938adc9daaa5             46.096893\n",
       "2298d6c36e964ae4a3e7e9706d1fb8c2             42.954124\n",
       "0b1e1539f2cc45b7b9fa7c272da2e1d7             39.304236\n",
       "9b98b8c7a33c4b65b9aebfe6a799e6d9             36.830081\n",
       "3f207df678b143eea3cee63160fa8bed             26.276062\n",
       "5a8bc65990b245e5a138643cd4eb9837             24.227436"
      ]
     },
     "execution_count": 36,
     "metadata": {},
     "output_type": "execute_result"
    }
   ],
   "source": [
    "portfolio['first_offer_turnover'] = 0\n",
    "for index, row in first_offers.groupby('offer_id').mean()[['amount']].iterrows():\n",
    "    portfolio.loc[index, 'first_offer_turnover'] = row.amount\n",
    "portfolio.sort_values('first_offer_turnover', ascending=False)[['first_offer_turnover']]"
   ]
  },
  {
   "cell_type": "markdown",
   "metadata": {},
   "source": [
    "This gives us a first insight of the turnover per offer. We can also group this by offer type."
   ]
  },
  {
   "cell_type": "code",
   "execution_count": 37,
   "metadata": {},
   "outputs": [
    {
     "data": {
      "text/plain": [
       "offer_type\n",
       "bogo             48.136277\n",
       "discount         45.777314\n",
       "informational    25.067037\n",
       "Name: amount, dtype: float64"
      ]
     },
     "execution_count": 37,
     "metadata": {},
     "output_type": "execute_result"
    }
   ],
   "source": [
    "first_offers.groupby('offer_type').mean().amount"
   ]
  },
  {
   "cell_type": "code",
   "execution_count": 38,
   "metadata": {},
   "outputs": [
    {
     "data": {
      "image/png": "[encoded data removed]",
      "text/plain": [
       "<Figure size 360x216 with 1 Axes>"
      ]
     },
     "metadata": {
      "needs_background": "light"
     },
     "output_type": "display_data"
    }
   ],
   "source": [
    "def plot_spending_by_type(df, ax=plt, show=True):\n",
    "    avg_spending = df.amount.mean()\n",
    "    types = ['bogo', 'discount', 'informational']\n",
    "    performance = []\n",
    "    for t in types:\n",
    "        type_spending = df[df.offer_type == t].amount.mean()\n",
    "        performance.append((type_spending - avg_spending) / avg_spending * 100)\n",
    "\n",
    "    y_pos = np.arange(len(types))\n",
    "    ax.bar(y_pos, performance, align=\"center\", color=\"#5ca4ce\")\n",
    "    if show:\n",
    "        ax.xticks(y_pos, types)\n",
    "        ax.ylabel('% increase in turnover')\n",
    "        ax.show()\n",
    "\n",
    "plt.figure(figsize=(5, 3))\n",
    "plot_spending_by_type(first_offers)"
   ]
  },
  {
   "cell_type": "markdown",
   "metadata": {},
   "source": [
    "And grouped by channel:"
   ]
  },
  {
   "cell_type": "code",
   "execution_count": 39,
   "metadata": {},
   "outputs": [
    {
     "data": {
      "text/plain": [
       "web  email  mobile  social\n",
       "0    1      1       1         36.683445\n",
       "1    1      0       0         39.304236\n",
       "            1       0         35.849624\n",
       "                    1         47.710087\n",
       "Name: amount, dtype: float64"
      ]
     },
     "execution_count": 39,
     "metadata": {},
     "output_type": "execute_result"
    }
   ],
   "source": [
    "first_offers.groupby(['web', 'email', 'mobile', 'social']).mean().amount"
   ]
  },
  {
   "cell_type": "code",
   "execution_count": 40,
   "metadata": {},
   "outputs": [
    {
     "data": {
      "image/png": "[encoded data removed]",
      "text/plain": [
       "<Figure size 360x216 with 1 Axes>"
      ]
     },
     "metadata": {
      "needs_background": "light"
     },
     "output_type": "display_data"
    }
   ],
   "source": [
    "def plot_spending_by_medium(df, ax=plt, show=True):\n",
    "    avg_spending = df.amount.mean()\n",
    "    media = ['web', 'email', 'mobile', 'social']\n",
    "    performance = []\n",
    "    for medium in media:\n",
    "        medium_spending = df.groupby(medium).mean().amount[1]\n",
    "        performance.append((medium_spending - avg_spending) / avg_spending * 100)\n",
    "\n",
    "    y_pos = np.arange(len(media))\n",
    "    ax.bar(y_pos, performance, align=\"center\", color=\"#5ca4ce\")\n",
    "    if show:\n",
    "        ax.xticks(y_pos, media)\n",
    "        ax.ylabel('% increase in turnover')\n",
    "        ax.show()\n",
    "\n",
    "plt.figure(figsize=(5, 3))\n",
    "plot_spending_by_medium(first_offers)"
   ]
  },
  {
   "cell_type": "markdown",
   "metadata": {},
   "source": [
    "There is no data for email, which is because there were no offers that were not sent via email. Therefore it is impossible to measure its impact.\n",
    "\n",
    "There are three demographic features: gender, age and income. We can visualize differences in the former by generating two charts, for both genders. We cannot use this method directly for age or income, therefore we will check the correlations later."
   ]
  },
  {
   "cell_type": "code",
   "execution_count": 41,
   "metadata": {},
   "outputs": [
    {
     "data": {
      "image/png": "[encoded data removed]",
      "text/plain": [
       "<Figure size 720x216 with 2 Axes>"
      ]
     },
     "metadata": {
      "needs_background": "light"
     },
     "output_type": "display_data"
    }
   ],
   "source": [
    "f, (ax1, ax2) = plt.subplots(1, 2, figsize=(10, 3))\n",
    "ax1.set_title(\"Male\")\n",
    "plot_spending_by_medium(first_offers[first_offers.gender_viewed == \"M\"], ax1, False)\n",
    "ax2.set_title(\"Female\")\n",
    "plot_spending_by_medium(first_offers[first_offers.gender_viewed == \"F\"], ax2, False)\n",
    "plt.setp((ax1, ax2), xticks=[0,1,2,3], xticklabels=[\"web\", \"email\", \"mobile\", \"social\"])\n",
    "plt.show()"
   ]
  },
  {
   "cell_type": "code",
   "execution_count": 42,
   "metadata": {},
   "outputs": [
    {
     "data": {
      "image/png": "[encoded data removed]",
      "text/plain": [
       "<Figure size 720x216 with 2 Axes>"
      ]
     },
     "metadata": {
      "needs_background": "light"
     },
     "output_type": "display_data"
    }
   ],
   "source": [
    "f, (ax1, ax2) = plt.subplots(1, 2, figsize=(10, 3))\n",
    "ax1.set_title(\"Male\")\n",
    "plot_spending_by_type(first_offers[first_offers.gender_viewed == \"M\"], ax1, False)\n",
    "ax2.set_title(\"Female\")\n",
    "plot_spending_by_type(first_offers[first_offers.gender_viewed == \"F\"], ax2, False)\n",
    "ax1.set(ylabel=\"% increase in turnover\")\n",
    "plt.setp((ax1, ax2), xticks=[0,1,2], xticklabels=[\"bogo\", \"discount\", \"informational\"])\n",
    "plt.show()"
   ]
  },
  {
   "cell_type": "markdown",
   "metadata": {},
   "source": [
    "And check correlation for effect of age and income."
   ]
  },
  {
   "cell_type": "code",
   "execution_count": 43,
   "metadata": {},
   "outputs": [
    {
     "data": {
      "text/plain": [
       "[Text(0.5, 0, 'time_viewed'),\n",
       " Text(1.5, 0, 'difficulty_viewed'),\n",
       " Text(2.5, 0, 'reward_viewed'),\n",
       " Text(3.5, 0, 'mobile'),\n",
       " Text(4.5, 0, 'web'),\n",
       " Text(5.5, 0, 'social'),\n",
       " Text(6.5, 0, 'age_completed'),\n",
       " Text(7.5, 0, 'income_completed'),\n",
       " Text(8.5, 0, 'duration_completed'),\n",
       " Text(9.5, 0, 'amount')]"
      ]
     },
     "execution_count": 43,
     "metadata": {},
     "output_type": "execute_result"
    },
    {
     "data": {
      "image/png": "[encoded data removed]",
      "text/plain": [
       "<Figure size 432x288 with 2 Axes>"
      ]
     },
     "metadata": {
      "needs_background": "light"
     },
     "output_type": "display_data"
    }
   ],
   "source": [
    "# Note that email is not in the list. Every discount was sent via email.\n",
    "corr = first_offers[[\n",
    "    'time_viewed',\n",
    "    'difficulty_viewed',\n",
    "    'reward_viewed',\n",
    "    'mobile',\n",
    "    'web',\n",
    "    'social',\n",
    "    'age_completed',\n",
    "    'income_completed',\n",
    "    'duration_completed',\n",
    "    'amount'\n",
    "]].corr()\n",
    "ax = sns.heatmap(\n",
    "    corr, \n",
    "    vmin=-1, vmax=1, center=0,\n",
    "    cmap=sns.diverging_palette(20, 220, n=200),\n",
    "    square=True\n",
    ")\n",
    "ax.set_xticklabels(\n",
    "    ax.get_xticklabels(),\n",
    "    rotation=45,\n",
    "    horizontalalignment='right'\n",
    ")"
   ]
  },
  {
   "cell_type": "markdown",
   "metadata": {},
   "source": [
    "The difficulty, reward and mobile are related negatively to duration. But this comes solely from the offers and has nothing to do with the user data. We are interested in relations with amount or relationships between media and age or income. There are no significant correlations with age or income."
   ]
  },
  {
   "cell_type": "markdown",
   "metadata": {},
   "source": [
    "## Turnover predictions"
   ]
  },
  {
   "cell_type": "markdown",
   "metadata": {},
   "source": [
    "The first actual modelling we want to do is predicting the turnover change for a given offer.\n",
    "\n",
    "We want to convert the transactions into revenue over a fixed period. A week is a convenient period for this kind of data since it is not affected by increased revenues during the weekends. So we can safely compare different weeks to see if there is any effect.\n",
    "\n",
    "The transaction data spans over 714 hours, which is four weeks and 42 hours. We can always start our period on the hour 0, but we want to align it with the time of a given transaction. Therefore, we only have three full weeks if we start after the 42nd hour in any week.\n",
    "\n",
    "We start by building a method to translate transaction data into weekly revenue."
   ]
  },
  {
   "cell_type": "code",
   "execution_count": 44,
   "metadata": {},
   "outputs": [
    {
     "data": {
      "text/plain": [
       "([[94.0], [262.0], [430.0], [598.0]], [20.39, 14.97, 37.28, 73.21])"
      ]
     },
     "execution_count": 44,
     "metadata": {},
     "output_type": "execute_result"
    }
   ],
   "source": [
    "def weekly_revenue(df, profile_id, from_time=0, to_time=714):\n",
    "    X = []\n",
    "    y = []\n",
    "    df_person = df[df.profile_id == profile_id]\n",
    "    df_person = df_person[df_person.event == \"transaction\"]\n",
    "    duration = to_time - from_time\n",
    "    weeks = int(duration / 168)\n",
    "    for i in range(0, weeks):\n",
    "        df_period = df_person[df_person.time >= from_time + 168 * i]\n",
    "        df_period = df_period[df_period.time <= from_time + 168 * i + 168]\n",
    "        # Set the X to the middle of the week.\n",
    "        X.append([from_time + 168 * i + 168 / 2])\n",
    "        y.append(df_period.amount.sum())\n",
    "    return X, y\n",
    "\n",
    "weekly_revenue(df, \"d015bf9545c1465d8328a18c8a825226\", from_time=10)"
   ]
  },
  {
   "cell_type": "markdown",
   "metadata": {},
   "source": [
    "In order to model the turnover, we want to model a curve that fits the weekly revenue. Given the number of weeks, there are only 3 of 4 datapoints. This is too little to generate a smooth higher degree curve. Therefore, we use a linear function. However, we use BSpline to cut this into two segments, one before the *order viewed* event and one after."
   ]
  },
  {
   "cell_type": "code",
   "execution_count": 45,
   "metadata": {},
   "outputs": [
    {
     "data": {
      "image/png": "[encoded data removed]",
      "text/plain": [
       "<Figure size 432x288 with 1 Axes>"
      ]
     },
     "metadata": {
      "needs_background": "light"
     },
     "output_type": "display_data"
    }
   ],
   "source": [
    "def fit_revenue_spline(df, profile_id, event_time):\n",
    "    x, y = weekly_revenue(df, profile_id, from_time=event_time % 168)\n",
    "    t, c, k = interpolate.splrep(x, y, k=1, t=[event_time])\n",
    "    spline = interpolate.BSpline(t, c, k, extrapolate=False)\n",
    "    return spline\n",
    "\n",
    "profile_id = \"b64b461c1e4547359eb09ad574ff6f5d\"\n",
    "\n",
    "x, y = weekly_revenue(df, profile_id, from_time=414 % 168)\n",
    "plt.plot(x, y, 'bo', label=\"Weekly profit\")\n",
    "\n",
    "spline = fit_revenue_spline(df, profile_id, 414)\n",
    "curve = np.linspace(0, 714, 100)\n",
    "plt.plot(curve, spline(curve), 'r', label=\"Fitted spline\")\n",
    "plt.grid()\n",
    "plt.legend()\n",
    "plt.show()"
   ]
  },
  {
   "cell_type": "markdown",
   "metadata": {},
   "source": [
    "We can integrate the week before the event and the week after to get the turnover for both weeks. The turnover in the week after minus the turnover in the week before is the increase in turnover due to the event."
   ]
  },
  {
   "cell_type": "code",
   "execution_count": 46,
   "metadata": {},
   "outputs": [
    {
     "data": {
      "text/plain": [
       "-24.297500000000014"
      ]
     },
     "execution_count": 46,
     "metadata": {},
     "output_type": "execute_result"
    }
   ],
   "source": [
    "def revenue_increase(df, profile_id, event_time, term=1):\n",
    "    spline = fit_revenue_spline(df, profile_id, event_time)\n",
    "    before = spline.integrate(event_time - 168, event_time) / 168\n",
    "    after = spline.integrate(event_time + (term - 1) * 168, event_time + term * 168) / 168\n",
    "    return after - before\n",
    "\n",
    "revenue_increase(df, profile_id, 414)"
   ]
  },
  {
   "cell_type": "markdown",
   "metadata": {},
   "source": [
    "This number is the added revenue from the week after the event compared with the week before. We use an absolute number here to overcome division by zero errors."
   ]
  },
  {
   "cell_type": "code",
   "execution_count": 47,
   "metadata": {},
   "outputs": [
    {
     "data": {
      "text/plain": [
       "12595"
      ]
     },
     "execution_count": 47,
     "metadata": {},
     "output_type": "execute_result"
    }
   ],
   "source": [
    "offers_usable = offers_used[(offers_used.time_viewed > 168) & (offers_used.time_completed < 714 - 168)]\n",
    "offers_usable.shape[0]"
   ]
  },
  {
   "cell_type": "markdown",
   "metadata": {},
   "source": [
    "Build a method to check the revenue increase for a given offer."
   ]
  },
  {
   "cell_type": "code",
   "execution_count": 48,
   "metadata": {},
   "outputs": [
    {
     "data": {
      "text/plain": [
       "(-19.963749999999997, -39.31)"
      ]
     },
     "execution_count": 48,
     "metadata": {},
     "output_type": "execute_result"
    }
   ],
   "source": [
    "def check_offer(offer, term=1):\n",
    "    time = int(offer.time_viewed)\n",
    "    return revenue_increase(df, offer.profile_id, time, term)\n",
    "\n",
    "offer_id = offers_usable[offers_usable.time_viewed < 714 - 168].index.values[0]\n",
    "check_offer(offers_usable.loc[offer_id], 1), check_offer(offers_usable.loc[offer_id], 2)"
   ]
  },
  {
   "cell_type": "code",
   "execution_count": 49,
   "metadata": {},
   "outputs": [
    {
     "data": {
      "text/plain": [
       "1"
      ]
     },
     "execution_count": 49,
     "metadata": {},
     "output_type": "execute_result"
    }
   ],
   "source": [
    "def get_offers_viewed_before(offer):\n",
    "    time = int(offer.time_viewed)\n",
    "    return df[(df.profile_id == offer.profile_id) & (df.time < time) & (df.event == 'offer viewed')].shape[0]\n",
    "\n",
    "offer_id = offers_usable[offers_usable.time_viewed < 714 - 168].index.values[0]\n",
    "get_offers_viewed_before(offers_usable.loc[offer_id])"
   ]
  },
  {
   "cell_type": "markdown",
   "metadata": {},
   "source": [
    "Apply these methods to all offers in the *offers_usable* dataframe."
   ]
  },
  {
   "cell_type": "code",
   "execution_count": 50,
   "metadata": {},
   "outputs": [
    {
     "name": "stderr",
     "output_type": "stream",
     "text": [
      "/opt/conda/lib/python3.7/site-packages/ipykernel_launcher.py:1: SettingWithCopyWarning: \n",
      "A value is trying to be set on a copy of a slice from a DataFrame.\n",
      "Try using .loc[row_indexer,col_indexer] = value instead\n",
      "\n",
      "See the caveats in the documentation: http://pandas.pydata.org/pandas-docs/stable/user_guide/indexing.html#returning-a-view-versus-a-copy\n",
      "  \"\"\"Entry point for launching an IPython kernel.\n",
      "/opt/conda/lib/python3.7/site-packages/pandas/core/indexing.py:494: SettingWithCopyWarning: \n",
      "A value is trying to be set on a copy of a slice from a DataFrame.\n",
      "Try using .loc[row_indexer,col_indexer] = value instead\n",
      "\n",
      "See the caveats in the documentation: http://pandas.pydata.org/pandas-docs/stable/user_guide/indexing.html#returning-a-view-versus-a-copy\n",
      "  self.obj[item] = s\n",
      "/opt/conda/lib/python3.7/site-packages/pandas/core/indexing.py:376: SettingWithCopyWarning: \n",
      "A value is trying to be set on a copy of a slice from a DataFrame.\n",
      "Try using .loc[row_indexer,col_indexer] = value instead\n",
      "\n",
      "See the caveats in the documentation: http://pandas.pydata.org/pandas-docs/stable/user_guide/indexing.html#returning-a-view-versus-a-copy\n",
      "  self.obj[key] = _infer_fill_value(value)\n"
     ]
    },
    {
     "name": "stdout",
     "output_type": "stream",
     "text": [
      "500\n",
      "1000\n",
      "1500\n",
      "2000\n",
      "2500\n",
      "3000\n",
      "3500\n",
      "4000\n",
      "4500\n",
      "5000\n",
      "5500\n",
      "6000\n",
      "6500\n",
      "7000\n",
      "7500\n",
      "8000\n",
      "8500\n",
      "9000\n",
      "9500\n",
      "10000\n",
      "10500\n",
      "11000\n",
      "11500\n",
      "12000\n",
      "12500\n"
     ]
    },
    {
     "data": {
      "text/plain": [
       "4.419015978562923"
      ]
     },
     "execution_count": 50,
     "metadata": {},
     "output_type": "execute_result"
    }
   ],
   "source": [
    "offers_usable['average_turnover'] = np.nan\n",
    "count = 0\n",
    "sample_size = offers_usable.shape[0]\n",
    "\n",
    "# This might take a while. For testing, use a smaller sample size:\n",
    "# sample_size = 123\n",
    "\n",
    "for index, row in offers_usable.sample(n=sample_size, random_state=42).iterrows():\n",
    "    offers_usable.loc[index, 'average_turnover'] = check_offer(offers_usable.loc[index], 1)\n",
    "    offers_usable.loc[index, 'offers_viewed_before'] = get_offers_viewed_before(offers_usable.loc[index])\n",
    "    count += 1\n",
    "    if count % 500 == 0:\n",
    "        print(count)\n",
    "\n",
    "offers_usable.average_turnover.mean()"
   ]
  },
  {
   "cell_type": "code",
   "execution_count": 51,
   "metadata": {},
   "outputs": [],
   "source": [
    "pickle.dump(offers_usable, open('offers.p', 'wb'))"
   ]
  },
  {
   "cell_type": "code",
   "execution_count": 52,
   "metadata": {},
   "outputs": [],
   "source": [
    "# Resume from here after breaking above analysis.\n",
    "offers_usable = pickle.load(open('offers.p', 'rb'))"
   ]
  },
  {
   "cell_type": "markdown",
   "metadata": {},
   "source": [
    "The average of these results can be added to the *portfolio* dataframe."
   ]
  },
  {
   "cell_type": "code",
   "execution_count": 53,
   "metadata": {},
   "outputs": [
    {
     "data": {
      "text/html": [
       "<div>\n",
       "<style scoped>\n",
       "    .dataframe tbody tr th:only-of-type {\n",
       "        vertical-align: middle;\n",
       "    }\n",
       "\n",
       "    .dataframe tbody tr th {\n",
       "        vertical-align: top;\n",
       "    }\n",
       "\n",
       "    .dataframe thead th {\n",
       "        text-align: right;\n",
       "    }\n",
       "</style>\n",
       "<table border=\"1\" class=\"dataframe\">\n",
       "  <thead>\n",
       "    <tr style=\"text-align: right;\">\n",
       "      <th></th>\n",
       "      <th>reward</th>\n",
       "      <th>difficulty</th>\n",
       "      <th>duration</th>\n",
       "      <th>offer_type</th>\n",
       "      <th>web</th>\n",
       "      <th>email</th>\n",
       "      <th>mobile</th>\n",
       "      <th>social</th>\n",
       "      <th>issued</th>\n",
       "      <th>used</th>\n",
       "      <th>used_pct</th>\n",
       "      <th>first_offer_turnover</th>\n",
       "      <th>turnover</th>\n",
       "    </tr>\n",
       "    <tr>\n",
       "      <th>offer_id</th>\n",
       "      <th></th>\n",
       "      <th></th>\n",
       "      <th></th>\n",
       "      <th></th>\n",
       "      <th></th>\n",
       "      <th></th>\n",
       "      <th></th>\n",
       "      <th></th>\n",
       "      <th></th>\n",
       "      <th></th>\n",
       "      <th></th>\n",
       "      <th></th>\n",
       "      <th></th>\n",
       "    </tr>\n",
       "  </thead>\n",
       "  <tbody>\n",
       "    <tr>\n",
       "      <td>0b1e1539f2cc45b7b9fa7c272da2e1d7</td>\n",
       "      <td>5</td>\n",
       "      <td>20</td>\n",
       "      <td>10</td>\n",
       "      <td>discount</td>\n",
       "      <td>1</td>\n",
       "      <td>1</td>\n",
       "      <td>0</td>\n",
       "      <td>0</td>\n",
       "      <td>2356</td>\n",
       "      <td>1118</td>\n",
       "      <td>47.453311</td>\n",
       "      <td>39.304236</td>\n",
       "      <td>1.993397</td>\n",
       "    </tr>\n",
       "    <tr>\n",
       "      <td>ae264e3637204a6fb9bb56bc8210ddfd</td>\n",
       "      <td>10</td>\n",
       "      <td>10</td>\n",
       "      <td>7</td>\n",
       "      <td>bogo</td>\n",
       "      <td>0</td>\n",
       "      <td>1</td>\n",
       "      <td>1</td>\n",
       "      <td>1</td>\n",
       "      <td>5863</td>\n",
       "      <td>2139</td>\n",
       "      <td>36.483029</td>\n",
       "      <td>54.032887</td>\n",
       "      <td>0.879830</td>\n",
       "    </tr>\n",
       "    <tr>\n",
       "      <td>fafdcd668e3743c1bb461111dcafc2a4</td>\n",
       "      <td>2</td>\n",
       "      <td>10</td>\n",
       "      <td>10</td>\n",
       "      <td>discount</td>\n",
       "      <td>1</td>\n",
       "      <td>1</td>\n",
       "      <td>1</td>\n",
       "      <td>1</td>\n",
       "      <td>6729</td>\n",
       "      <td>3843</td>\n",
       "      <td>57.111012</td>\n",
       "      <td>49.759284</td>\n",
       "      <td>0.520584</td>\n",
       "    </tr>\n",
       "    <tr>\n",
       "      <td>2906b810c7d4411798c6938adc9daaa5</td>\n",
       "      <td>2</td>\n",
       "      <td>10</td>\n",
       "      <td>7</td>\n",
       "      <td>discount</td>\n",
       "      <td>1</td>\n",
       "      <td>1</td>\n",
       "      <td>1</td>\n",
       "      <td>0</td>\n",
       "      <td>3687</td>\n",
       "      <td>1710</td>\n",
       "      <td>46.379170</td>\n",
       "      <td>46.096893</td>\n",
       "      <td>0.302052</td>\n",
       "    </tr>\n",
       "    <tr>\n",
       "      <td>9b98b8c7a33c4b65b9aebfe6a799e6d9</td>\n",
       "      <td>5</td>\n",
       "      <td>5</td>\n",
       "      <td>7</td>\n",
       "      <td>bogo</td>\n",
       "      <td>1</td>\n",
       "      <td>1</td>\n",
       "      <td>1</td>\n",
       "      <td>0</td>\n",
       "      <td>3708</td>\n",
       "      <td>1681</td>\n",
       "      <td>45.334412</td>\n",
       "      <td>36.830081</td>\n",
       "      <td>0.016428</td>\n",
       "    </tr>\n",
       "    <tr>\n",
       "      <td>4d5c57ea9a6940dd891ad53e9dbe8da0</td>\n",
       "      <td>10</td>\n",
       "      <td>10</td>\n",
       "      <td>5</td>\n",
       "      <td>bogo</td>\n",
       "      <td>1</td>\n",
       "      <td>1</td>\n",
       "      <td>1</td>\n",
       "      <td>1</td>\n",
       "      <td>6128</td>\n",
       "      <td>2154</td>\n",
       "      <td>35.150131</td>\n",
       "      <td>52.496122</td>\n",
       "      <td>-0.275299</td>\n",
       "    </tr>\n",
       "    <tr>\n",
       "      <td>f19421c1d4aa40978ebb69ca19b0e20d</td>\n",
       "      <td>5</td>\n",
       "      <td>5</td>\n",
       "      <td>5</td>\n",
       "      <td>bogo</td>\n",
       "      <td>1</td>\n",
       "      <td>1</td>\n",
       "      <td>1</td>\n",
       "      <td>1</td>\n",
       "      <td>6428</td>\n",
       "      <td>2778</td>\n",
       "      <td>43.217175</td>\n",
       "      <td>46.832470</td>\n",
       "      <td>-0.342454</td>\n",
       "    </tr>\n",
       "    <tr>\n",
       "      <td>2298d6c36e964ae4a3e7e9706d1fb8c2</td>\n",
       "      <td>3</td>\n",
       "      <td>7</td>\n",
       "      <td>7</td>\n",
       "      <td>discount</td>\n",
       "      <td>1</td>\n",
       "      <td>1</td>\n",
       "      <td>1</td>\n",
       "      <td>1</td>\n",
       "      <td>6672</td>\n",
       "      <td>3471</td>\n",
       "      <td>52.023381</td>\n",
       "      <td>42.954124</td>\n",
       "      <td>-0.456256</td>\n",
       "    </tr>\n",
       "    <tr>\n",
       "      <td>3f207df678b143eea3cee63160fa8bed</td>\n",
       "      <td>0</td>\n",
       "      <td>0</td>\n",
       "      <td>4</td>\n",
       "      <td>informational</td>\n",
       "      <td>1</td>\n",
       "      <td>1</td>\n",
       "      <td>1</td>\n",
       "      <td>0</td>\n",
       "      <td>3119</td>\n",
       "      <td>2053</td>\n",
       "      <td>65.822379</td>\n",
       "      <td>26.276062</td>\n",
       "      <td>-1.254877</td>\n",
       "    </tr>\n",
       "    <tr>\n",
       "      <td>5a8bc65990b245e5a138643cd4eb9837</td>\n",
       "      <td>0</td>\n",
       "      <td>0</td>\n",
       "      <td>3</td>\n",
       "      <td>informational</td>\n",
       "      <td>0</td>\n",
       "      <td>1</td>\n",
       "      <td>1</td>\n",
       "      <td>1</td>\n",
       "      <td>4984</td>\n",
       "      <td>3183</td>\n",
       "      <td>63.864366</td>\n",
       "      <td>24.227436</td>\n",
       "      <td>-1.383404</td>\n",
       "    </tr>\n",
       "  </tbody>\n",
       "</table>\n",
       "</div>"
      ],
      "text/plain": [
       "                                  reward  difficulty  duration     offer_type  \\\n",
       "offer_id                                                                        \n",
       "0b1e1539f2cc45b7b9fa7c272da2e1d7       5          20        10       discount   \n",
       "ae264e3637204a6fb9bb56bc8210ddfd      10          10         7           bogo   \n",
       "fafdcd668e3743c1bb461111dcafc2a4       2          10        10       discount   \n",
       "2906b810c7d4411798c6938adc9daaa5       2          10         7       discount   \n",
       "9b98b8c7a33c4b65b9aebfe6a799e6d9       5           5         7           bogo   \n",
       "4d5c57ea9a6940dd891ad53e9dbe8da0      10          10         5           bogo   \n",
       "f19421c1d4aa40978ebb69ca19b0e20d       5           5         5           bogo   \n",
       "2298d6c36e964ae4a3e7e9706d1fb8c2       3           7         7       discount   \n",
       "3f207df678b143eea3cee63160fa8bed       0           0         4  informational   \n",
       "5a8bc65990b245e5a138643cd4eb9837       0           0         3  informational   \n",
       "\n",
       "                                  web  email  mobile  social  issued  used  \\\n",
       "offer_id                                                                     \n",
       "0b1e1539f2cc45b7b9fa7c272da2e1d7    1      1       0       0    2356  1118   \n",
       "ae264e3637204a6fb9bb56bc8210ddfd    0      1       1       1    5863  2139   \n",
       "fafdcd668e3743c1bb461111dcafc2a4    1      1       1       1    6729  3843   \n",
       "2906b810c7d4411798c6938adc9daaa5    1      1       1       0    3687  1710   \n",
       "9b98b8c7a33c4b65b9aebfe6a799e6d9    1      1       1       0    3708  1681   \n",
       "4d5c57ea9a6940dd891ad53e9dbe8da0    1      1       1       1    6128  2154   \n",
       "f19421c1d4aa40978ebb69ca19b0e20d    1      1       1       1    6428  2778   \n",
       "2298d6c36e964ae4a3e7e9706d1fb8c2    1      1       1       1    6672  3471   \n",
       "3f207df678b143eea3cee63160fa8bed    1      1       1       0    3119  2053   \n",
       "5a8bc65990b245e5a138643cd4eb9837    0      1       1       1    4984  3183   \n",
       "\n",
       "                                   used_pct  first_offer_turnover  turnover  \n",
       "offer_id                                                                     \n",
       "0b1e1539f2cc45b7b9fa7c272da2e1d7  47.453311             39.304236  1.993397  \n",
       "ae264e3637204a6fb9bb56bc8210ddfd  36.483029             54.032887  0.879830  \n",
       "fafdcd668e3743c1bb461111dcafc2a4  57.111012             49.759284  0.520584  \n",
       "2906b810c7d4411798c6938adc9daaa5  46.379170             46.096893  0.302052  \n",
       "9b98b8c7a33c4b65b9aebfe6a799e6d9  45.334412             36.830081  0.016428  \n",
       "4d5c57ea9a6940dd891ad53e9dbe8da0  35.150131             52.496122 -0.275299  \n",
       "f19421c1d4aa40978ebb69ca19b0e20d  43.217175             46.832470 -0.342454  \n",
       "2298d6c36e964ae4a3e7e9706d1fb8c2  52.023381             42.954124 -0.456256  \n",
       "3f207df678b143eea3cee63160fa8bed  65.822379             26.276062 -1.254877  \n",
       "5a8bc65990b245e5a138643cd4eb9837  63.864366             24.227436 -1.383404  "
      ]
     },
     "execution_count": 53,
     "metadata": {},
     "output_type": "execute_result"
    }
   ],
   "source": [
    "portfolio['turnover'] = offers_usable.groupby('offer_id').mean().average_turnover\n",
    "\n",
    "# Convert to Z-values\n",
    "portfolio['turnover'] = (portfolio.turnover - portfolio.turnover.mean()) / portfolio.turnover.std()\n",
    "\n",
    "portfolio.sort_values(by='turnover', ascending=False)"
   ]
  },
  {
   "cell_type": "markdown",
   "metadata": {},
   "source": [
    "This gives us a first insight on what offers increase turnover the most.\n",
    "\n",
    "We can also group this by offer type."
   ]
  },
  {
   "cell_type": "code",
   "execution_count": 54,
   "metadata": {},
   "outputs": [
    {
     "data": {
      "text/html": [
       "<div>\n",
       "<style scoped>\n",
       "    .dataframe tbody tr th:only-of-type {\n",
       "        vertical-align: middle;\n",
       "    }\n",
       "\n",
       "    .dataframe tbody tr th {\n",
       "        vertical-align: top;\n",
       "    }\n",
       "\n",
       "    .dataframe thead th {\n",
       "        text-align: right;\n",
       "    }\n",
       "</style>\n",
       "<table border=\"1\" class=\"dataframe\">\n",
       "  <thead>\n",
       "    <tr style=\"text-align: right;\">\n",
       "      <th></th>\n",
       "      <th>reward</th>\n",
       "      <th>difficulty</th>\n",
       "      <th>duration</th>\n",
       "      <th>web</th>\n",
       "      <th>email</th>\n",
       "      <th>mobile</th>\n",
       "      <th>social</th>\n",
       "      <th>issued</th>\n",
       "      <th>used</th>\n",
       "      <th>used_pct</th>\n",
       "      <th>first_offer_turnover</th>\n",
       "      <th>turnover</th>\n",
       "    </tr>\n",
       "    <tr>\n",
       "      <th>offer_type</th>\n",
       "      <th></th>\n",
       "      <th></th>\n",
       "      <th></th>\n",
       "      <th></th>\n",
       "      <th></th>\n",
       "      <th></th>\n",
       "      <th></th>\n",
       "      <th></th>\n",
       "      <th></th>\n",
       "      <th></th>\n",
       "      <th></th>\n",
       "      <th></th>\n",
       "    </tr>\n",
       "  </thead>\n",
       "  <tbody>\n",
       "    <tr>\n",
       "      <td>bogo</td>\n",
       "      <td>7.5</td>\n",
       "      <td>7.50</td>\n",
       "      <td>6.0</td>\n",
       "      <td>0.75</td>\n",
       "      <td>1.0</td>\n",
       "      <td>1.00</td>\n",
       "      <td>0.75</td>\n",
       "      <td>5531.75</td>\n",
       "      <td>2188.0</td>\n",
       "      <td>40.046187</td>\n",
       "      <td>47.547890</td>\n",
       "      <td>0.069626</td>\n",
       "    </tr>\n",
       "    <tr>\n",
       "      <td>discount</td>\n",
       "      <td>3.0</td>\n",
       "      <td>11.75</td>\n",
       "      <td>8.5</td>\n",
       "      <td>1.00</td>\n",
       "      <td>1.0</td>\n",
       "      <td>0.75</td>\n",
       "      <td>0.50</td>\n",
       "      <td>4861.00</td>\n",
       "      <td>2535.5</td>\n",
       "      <td>50.741719</td>\n",
       "      <td>44.528634</td>\n",
       "      <td>0.589944</td>\n",
       "    </tr>\n",
       "    <tr>\n",
       "      <td>informational</td>\n",
       "      <td>0.0</td>\n",
       "      <td>0.00</td>\n",
       "      <td>3.5</td>\n",
       "      <td>0.50</td>\n",
       "      <td>1.0</td>\n",
       "      <td>1.00</td>\n",
       "      <td>0.50</td>\n",
       "      <td>4051.50</td>\n",
       "      <td>2618.0</td>\n",
       "      <td>64.843372</td>\n",
       "      <td>25.251749</td>\n",
       "      <td>-1.319140</td>\n",
       "    </tr>\n",
       "  </tbody>\n",
       "</table>\n",
       "</div>"
      ],
      "text/plain": [
       "               reward  difficulty  duration   web  email  mobile  social  \\\n",
       "offer_type                                                                 \n",
       "bogo              7.5        7.50       6.0  0.75    1.0    1.00    0.75   \n",
       "discount          3.0       11.75       8.5  1.00    1.0    0.75    0.50   \n",
       "informational     0.0        0.00       3.5  0.50    1.0    1.00    0.50   \n",
       "\n",
       "                issued    used   used_pct  first_offer_turnover  turnover  \n",
       "offer_type                                                                 \n",
       "bogo           5531.75  2188.0  40.046187             47.547890  0.069626  \n",
       "discount       4861.00  2535.5  50.741719             44.528634  0.589944  \n",
       "informational  4051.50  2618.0  64.843372             25.251749 -1.319140  "
      ]
     },
     "execution_count": 54,
     "metadata": {},
     "output_type": "execute_result"
    }
   ],
   "source": [
    "portfolio.groupby('offer_type').mean()"
   ]
  },
  {
   "cell_type": "markdown",
   "metadata": {},
   "source": [
    "And check correlations with our new figures."
   ]
  },
  {
   "cell_type": "code",
   "execution_count": 55,
   "metadata": {
    "scrolled": true
   },
   "outputs": [
    {
     "data": {
      "text/html": [
       "<div>\n",
       "<style scoped>\n",
       "    .dataframe tbody tr th:only-of-type {\n",
       "        vertical-align: middle;\n",
       "    }\n",
       "\n",
       "    .dataframe tbody tr th {\n",
       "        vertical-align: top;\n",
       "    }\n",
       "\n",
       "    .dataframe thead th {\n",
       "        text-align: right;\n",
       "    }\n",
       "</style>\n",
       "<table border=\"1\" class=\"dataframe\">\n",
       "  <thead>\n",
       "    <tr style=\"text-align: right;\">\n",
       "      <th></th>\n",
       "      <th>turnover</th>\n",
       "    </tr>\n",
       "  </thead>\n",
       "  <tbody>\n",
       "    <tr>\n",
       "      <td>difficulty</td>\n",
       "      <td>0.939576</td>\n",
       "    </tr>\n",
       "    <tr>\n",
       "      <td>duration</td>\n",
       "      <td>0.865173</td>\n",
       "    </tr>\n",
       "    <tr>\n",
       "      <td>reward</td>\n",
       "      <td>0.454458</td>\n",
       "    </tr>\n",
       "    <tr>\n",
       "      <td>web</td>\n",
       "      <td>0.132704</td>\n",
       "    </tr>\n",
       "    <tr>\n",
       "      <td>mobile</td>\n",
       "      <td>-0.700408</td>\n",
       "    </tr>\n",
       "    <tr>\n",
       "      <td>social</td>\n",
       "      <td>-0.227430</td>\n",
       "    </tr>\n",
       "    <tr>\n",
       "      <td>turnover</td>\n",
       "      <td>1.000000</td>\n",
       "    </tr>\n",
       "  </tbody>\n",
       "</table>\n",
       "</div>"
      ],
      "text/plain": [
       "            turnover\n",
       "difficulty  0.939576\n",
       "duration    0.865173\n",
       "reward      0.454458\n",
       "web         0.132704\n",
       "mobile     -0.700408\n",
       "social     -0.227430\n",
       "turnover    1.000000"
      ]
     },
     "execution_count": 55,
     "metadata": {},
     "output_type": "execute_result"
    }
   ],
   "source": [
    "corr = portfolio[['difficulty', 'duration', 'reward', 'web', 'mobile', 'social', 'turnover']].corr()\n",
    "corr[['turnover']]"
   ]
  },
  {
   "cell_type": "markdown",
   "metadata": {},
   "source": [
    "And plot regression with reward and difficulty."
   ]
  },
  {
   "cell_type": "code",
   "execution_count": 56,
   "metadata": {},
   "outputs": [
    {
     "data": {
      "text/plain": [
       "[Text(0, 0.5, 'Turnover (Z-score)')]"
      ]
     },
     "execution_count": 56,
     "metadata": {},
     "output_type": "execute_result"
    },
    {
     "data": {
      "image/png": "[encoded data removed]",
      "text/plain": [
       "<Figure size 1008x360 with 2 Axes>"
      ]
     },
     "metadata": {
      "needs_background": "light"
     },
     "output_type": "display_data"
    }
   ],
   "source": [
    "f, (ax1, ax2) = plt.subplots(1, 2, figsize=(14, 5))\n",
    "\n",
    "sns.regplot(x=\"reward\", y=\"turnover\", data=portfolio, ax=ax1);\n",
    "ax1.set(ylabel=\"Turnover (Z-score)\")\n",
    "\n",
    "sns.regplot(x=\"difficulty\", y=\"turnover\", data=portfolio, ax=ax2);\n",
    "ax2.set(ylabel=\"Turnover (Z-score)\")"
   ]
  },
  {
   "cell_type": "markdown",
   "metadata": {},
   "source": [
    "These plots suggest that increasing reward and difficulty results in higher turnover. But both figures are related to bigger spendings, which are included in the short term turnover. Therefore, this correlation is expected for the short-term. This spending is not included in the long-term however. It looks like high rewards and difficulty results in increased turnover in the long term."
   ]
  },
  {
   "cell_type": "markdown",
   "metadata": {},
   "source": [
    "Plot the turnover by offer type and channel. Both total and separated by gender."
   ]
  },
  {
   "cell_type": "code",
   "execution_count": 57,
   "metadata": {},
   "outputs": [
    {
     "data": {
      "image/png": "[encoded data removed]",
      "text/plain": [
       "<Figure size 432x288 with 1 Axes>"
      ]
     },
     "metadata": {
      "needs_background": "light"
     },
     "output_type": "display_data"
    }
   ],
   "source": [
    "data = pd.merge(offers_usable, portfolio, on=\"offer_id\")\n",
    "data = data[data.turnover.isna() == False]\n",
    "data = data.rename(columns={\"turnover\": \"amount\"})\n",
    "plot_spending_by_type(data)"
   ]
  },
  {
   "cell_type": "code",
   "execution_count": 58,
   "metadata": {},
   "outputs": [
    {
     "data": {
      "image/png": "[encoded data removed]",
      "text/plain": [
       "<Figure size 720x216 with 2 Axes>"
      ]
     },
     "metadata": {
      "needs_background": "light"
     },
     "output_type": "display_data"
    }
   ],
   "source": [
    "f, (ax1, ax2) = plt.subplots(1, 2, figsize=(10, 3))\n",
    "ax1.set_title(\"Male\")\n",
    "plot_spending_by_type(data[data.gender_viewed == \"M\"], ax1, False)\n",
    "ax2.set_title(\"Female\")\n",
    "plot_spending_by_type(data[data.gender_viewed == \"F\"], ax2, False)\n",
    "ax1.set(ylabel=\"% increase in turnover\")\n",
    "plt.setp((ax1, ax2), xticks=[0,1,2], xticklabels=[\"bogo\", \"discount\", \"informational\"])\n",
    "plt.show()"
   ]
  },
  {
   "cell_type": "code",
   "execution_count": 59,
   "metadata": {},
   "outputs": [
    {
     "data": {
      "image/png": "[encoded data removed]",
      "text/plain": [
       "<Figure size 360x216 with 1 Axes>"
      ]
     },
     "metadata": {
      "needs_background": "light"
     },
     "output_type": "display_data"
    }
   ],
   "source": [
    "plt.figure(figsize=(5, 3))\n",
    "plot_spending_by_medium(data)"
   ]
  },
  {
   "cell_type": "code",
   "execution_count": 60,
   "metadata": {},
   "outputs": [
    {
     "data": {
      "image/png": "[encoded data removed]",
      "text/plain": [
       "<Figure size 720x216 with 2 Axes>"
      ]
     },
     "metadata": {
      "needs_background": "light"
     },
     "output_type": "display_data"
    }
   ],
   "source": [
    "f, (ax1, ax2) = plt.subplots(1, 2, figsize=(10, 3))\n",
    "ax1.set_title(\"Male\")\n",
    "plot_spending_by_medium(data[data.gender_viewed == \"M\"], ax1, False)\n",
    "ax2.set_title(\"Female\")\n",
    "plot_spending_by_medium(data[data.gender_viewed == \"F\"], ax2, False)\n",
    "plt.setp((ax1, ax2), xticks=[0,1,2,3], xticklabels=[\"web\", \"email\", \"mobile\", \"social\"])\n",
    "plt.show()"
   ]
  },
  {
   "cell_type": "markdown",
   "metadata": {},
   "source": [
    "## Classification\n",
    "Use the relative turnover to build a classification to predict whether this turnover is above or below the average. In other words: predict if the offer is doing well."
   ]
  },
  {
   "cell_type": "code",
   "execution_count": 61,
   "metadata": {},
   "outputs": [],
   "source": [
    "# Get the records that we have predictions for. This should be all records,\n",
    "# but for testing, we sometimes only have caulcations for a sample.\n",
    "selection = offers_usable[offers_usable.average_turnover.isna() == False]\n",
    "\n",
    "# Select relevant columns and rename them to prevent long column names.\n",
    "selection = selection[[\n",
    "    'age_viewed',\n",
    "    'gender_viewed',\n",
    "    'offer_type_viewed',\n",
    "    'reward_viewed',\n",
    "    'duration_viewed',\n",
    "    'difficulty_viewed',\n",
    "    'web_viewed',\n",
    "    'email_viewed',\n",
    "    'mobile_viewed',\n",
    "    'social_viewed',\n",
    "    'average_turnover',\n",
    "    'offers_viewed_before'\n",
    "]].rename(columns={\n",
    "    'age_viewed': 'age',\n",
    "    'gender_viewed': 'gender',\n",
    "    'offer_type_viewed': 'type',\n",
    "    'reward_viewed': 'reward',\n",
    "    'duration_viewed': 'duration',\n",
    "    'difficulty_viewed': 'difficulty',\n",
    "    'web_viewed': 'web',\n",
    "    'email_viewed': 'email',\n",
    "    'mobile_viewed': 'mobile',\n",
    "    'social_viewed': 'social',\n",
    "    'average_turnover': 'turnover'\n",
    "})\n",
    "\n",
    "# One-hot encode gender and offer type.\n",
    "selection = pd.get_dummies(selection, columns=['gender', 'type'])\n",
    "\n",
    "# Use imputer to fill NA's.\n",
    "imp = SimpleImputer(missing_values=np.nan, strategy='mean')\n",
    "df_imp = pd.DataFrame(imp.fit_transform(selection))\n",
    "df_imp.columns = selection.columns\n",
    "df_imp.index = selection.index\n",
    "selection = df_imp\n",
    "\n",
    "# Scale values.\n",
    "scaler = StandardScaler()\n",
    "selection_scaled = pd.DataFrame(scaler.fit_transform(selection))\n",
    "selection_scaled.columns = selection.columns\n",
    "selection_scaled.index = selection.index\n",
    "\n",
    "# Translate turnover to binary class.\n",
    "selection['turnover'] = list(map(lambda v : 1 if v > 0 else 0, selection.turnover.values))\n",
    "# Copy to scaled df. There is no need to scale this column.\n",
    "selection_scaled['turnover'] = selection.turnover.values\n",
    "\n",
    "# Split into train and test data.\n",
    "selection_scaled, selection_scaled_test = train_test_split(selection_scaled, test_size=0.25, random_state=42)\n",
    "\n",
    "# Separate X and y columns.\n",
    "def get_x_features(df):\n",
    "    return df[[\n",
    "        'age',\n",
    "        'gender_M', 'gender_F', 'gender_O',\n",
    "        'type_bogo', 'type_discount', 'type_informational',\n",
    "        'reward',\n",
    "        'duration',\n",
    "        'difficulty',\n",
    "        'web',\n",
    "        'email',\n",
    "        'mobile',\n",
    "        'social',\n",
    "        'offers_viewed_before'\n",
    "    ]]\n",
    "X = get_x_features(selection_scaled)\n",
    "y = selection_scaled.turnover\n",
    "X_test = get_x_features(selection_scaled_test)\n",
    "y_test = selection_scaled_test.turnover"
   ]
  },
  {
   "cell_type": "code",
   "execution_count": 62,
   "metadata": {},
   "outputs": [
    {
     "name": "stderr",
     "output_type": "stream",
     "text": [
      "/opt/conda/lib/python3.7/site-packages/sklearn/ensemble/forest.py:245: FutureWarning: The default value of n_estimators will change from 10 in version 0.20 to 100 in 0.22.\n",
      "  \"10 in version 0.20 to 100 in 0.22.\", FutureWarning)\n"
     ]
    },
    {
     "name": "stdout",
     "output_type": "stream",
     "text": [
      "randomforest: 0.6560812956494125\n",
      "ada: 0.7189583994919022\n",
      "bagging: 0.6478247062559542\n",
      "gradientboosting: 0.7145125436646554\n",
      "decisiontree: 0.637980311209908\n"
     ]
    },
    {
     "name": "stderr",
     "output_type": "stream",
     "text": [
      "/opt/conda/lib/python3.7/site-packages/sklearn/linear_model/logistic.py:432: FutureWarning: Default solver will be changed to 'lbfgs' in 0.22. Specify a solver to silence this warning.\n",
      "  FutureWarning)\n"
     ]
    },
    {
     "name": "stdout",
     "output_type": "stream",
     "text": [
      "logistic: 0.7192759606224198\n",
      "ridge: 0.7176881549698317\n",
      "sgd: 0.7103842489679263\n"
     ]
    }
   ],
   "source": [
    "models = {\n",
    "    'randomforest': RandomForestClassifier(),\n",
    "    'ada': AdaBoostClassifier(),\n",
    "    'bagging': BaggingClassifier(),\n",
    "    'gradientboosting': GradientBoostingClassifier(),\n",
    "    'decisiontree': DecisionTreeClassifier(),\n",
    "    'logistic': LogisticRegression(),\n",
    "    'ridge': RidgeClassifier(),\n",
    "    'sgd': SGDClassifier()\n",
    "}\n",
    "\n",
    "for model in models:\n",
    "    models[model].fit(X, y)\n",
    "    y_pred = models[model].predict(X_test)\n",
    "    print(\"{}: {}\".format(model, accuracy_score(y_test, y_pred)))"
   ]
  },
  {
   "cell_type": "markdown",
   "metadata": {},
   "source": [
    "The decision tree works best on this dataset. Tune it with GridSearchCV."
   ]
  },
  {
   "cell_type": "code",
   "execution_count": 63,
   "metadata": {},
   "outputs": [],
   "source": [
    "selection, selection_test = train_test_split(selection, test_size=0.25, random_state=42)\n",
    "X = get_x_features(selection)\n",
    "y = selection.turnover\n",
    "X_test = get_x_features(selection)\n",
    "y_test = selection.turnover"
   ]
  },
  {
   "cell_type": "code",
   "execution_count": 64,
   "metadata": {},
   "outputs": [
    {
     "data": {
      "text/plain": [
       "(0.72146940503917,\n",
       " {'criterion': 'entropy',\n",
       "  'max_depth': 5,\n",
       "  'min_samples_leaf': 2,\n",
       "  'min_samples_split': 2})"
      ]
     },
     "execution_count": 64,
     "metadata": {},
     "output_type": "execute_result"
    }
   ],
   "source": [
    "def grid_search_tree(X, y):\n",
    "    model = DecisionTreeClassifier(random_state=42)\n",
    "    parameters = {\n",
    "        'max_depth': [5, 10, 15, 30, 50],\n",
    "        'min_samples_split': [2, 3, 4],\n",
    "        'min_samples_leaf': [1, 2, 3],\n",
    "        'criterion': ['gini', 'entropy']\n",
    "    }\n",
    "    scorer = make_scorer(accuracy_score)\n",
    "    grid = GridSearchCV(model, parameters, scoring=scorer, cv=5)\n",
    "    grid.fit(X, y)\n",
    "    return grid\n",
    "\n",
    "grid = grid_search_tree(X, y)\n",
    "model = grid.best_estimator_\n",
    "accuracy_score(y_test, model.predict(X_test)), grid.best_params_"
   ]
  },
  {
   "cell_type": "code",
   "execution_count": 65,
   "metadata": {},
   "outputs": [],
   "source": [
    "export_graphviz(model, out_file='tree.dot', filled=True, rounded=True, special_characters=False, impurity=False, feature_names=X.columns)"
   ]
  },
  {
   "cell_type": "markdown",
   "metadata": {},
   "source": [
    "The graph is pretty clear about the key result: if the user already had seen two or more offers before, the increase in turnover is likely to be below average. In other words: the first two offers are effective. Subsequent offers are not. At least not in the timespan of 4 weeks."
   ]
  },
  {
   "cell_type": "markdown",
   "metadata": {},
   "source": [
    "## Predicting if an offer will be used"
   ]
  },
  {
   "cell_type": "markdown",
   "metadata": {},
   "source": [
    "Until now, we have only analysed offers that have been used.\n",
    "Here, we build a linear model to predict if an offer will be used."
   ]
  },
  {
   "cell_type": "code",
   "execution_count": 66,
   "metadata": {
    "scrolled": true
   },
   "outputs": [
    {
     "data": {
      "text/plain": [
       "(0.677349222964812,\n",
       " {'criterion': 'gini',\n",
       "  'max_depth': 5,\n",
       "  'min_samples_leaf': 1,\n",
       "  'min_samples_split': 2})"
      ]
     },
     "execution_count": 66,
     "metadata": {},
     "output_type": "execute_result"
    }
   ],
   "source": [
    "selection = get_used_offers(df, False)\n",
    "\n",
    "# Select relevant columns and rename them to prevent long column names.\n",
    "selection = selection[[\n",
    "    'age_viewed',\n",
    "    'gender_viewed',\n",
    "    'offer_type_viewed',\n",
    "    'reward_viewed',\n",
    "    'duration_viewed',\n",
    "    'difficulty_viewed',\n",
    "    'web_viewed',\n",
    "    'email_viewed',\n",
    "    'mobile_viewed',\n",
    "    'social_viewed',\n",
    "    'used'\n",
    "]].rename(columns={\n",
    "    'age_viewed': 'age',\n",
    "    'gender_viewed': 'gender',\n",
    "    'offer_type_viewed': 'type',\n",
    "    'reward_viewed': 'reward',\n",
    "    'duration_viewed': 'duration',\n",
    "    'difficulty_viewed': 'difficulty',\n",
    "    'web_viewed': 'web',\n",
    "    'email_viewed': 'email',\n",
    "    'mobile_viewed': 'mobile',\n",
    "    'social_viewed': 'social'\n",
    "})\n",
    "\n",
    "# One-hot encode gender and offer type.\n",
    "selection = pd.get_dummies(selection, columns=['gender', 'type'])\n",
    "\n",
    "# Use imputer to fill NA's.\n",
    "imp = SimpleImputer(missing_values=np.nan, strategy='mean')\n",
    "df_imp = pd.DataFrame(imp.fit_transform(selection))\n",
    "df_imp.columns = selection.columns\n",
    "df_imp.index = selection.index\n",
    "selection = df_imp\n",
    "\n",
    "# Split into train and test data.\n",
    "selection, selection_test = train_test_split(selection, test_size=0.25, random_state=42)\n",
    "\n",
    "# Separate X and y columns.\n",
    "X = selection[[\n",
    "    'age',\n",
    "    'gender_M', 'gender_F', 'gender_O',\n",
    "    'type_bogo', 'type_discount', 'type_informational',\n",
    "    'reward',\n",
    "    'duration',\n",
    "    'difficulty',\n",
    "    'web',\n",
    "    'email',\n",
    "    'mobile',\n",
    "    'social'\n",
    "]]\n",
    "y = selection.used\n",
    "X_test = selection_test[[\n",
    "    'age',\n",
    "    'gender_M', 'gender_F', 'gender_O',\n",
    "    'type_bogo', 'type_discount', 'type_informational',\n",
    "    'reward',\n",
    "    'duration',\n",
    "    'difficulty',\n",
    "    'web',\n",
    "    'email',\n",
    "    'mobile',\n",
    "    'social'\n",
    "]]\n",
    "y_test = selection_test.used\n",
    "\n",
    "grid = grid_search_tree(X, y)\n",
    "model = grid.best_estimator_\n",
    "accuracy_score(y_test, model.predict(X_test)), grid.best_params_"
   ]
  },
  {
   "cell_type": "code",
   "execution_count": 67,
   "metadata": {},
   "outputs": [],
   "source": [
    "export_graphviz(model, out_file='used.dot', filled=True, rounded=True, special_characters=False, impurity=False, feature_names=X.columns)"
   ]
  },
  {
   "cell_type": "markdown",
   "metadata": {},
   "source": [
    "In general, informational offers will be used by most of the people, regardless of demographic features. Gender plays an important role for other offer types. Females use them in 62% and males in 47% of the cases. Females prefer discounts over bogo's (66% versus \n",
    "59%). For males, the reward counts. Offers with a reward below 7.5 are used in 59% of the cases, versus 40% for high-reward offers. It does not seem reasonable that a high reward alone is the cause for low usage. There are only two offers with a reward above this value. These are bogo's with a reward and difficulty of 10. In the distribution plot with the transaction amounts we see that most transactions are below 10, while completing this bogo requires a transaction of at least 20 dollars."
   ]
  },
  {
   "cell_type": "markdown",
   "metadata": {},
   "source": [
    "# Evaluation"
   ]
  },
  {
   "cell_type": "markdown",
   "metadata": {},
   "source": [
    "We have used different methods to analyse the offers. In this section, all meaningful observations are tested against our test set, that we had split off in the preparation step."
   ]
  },
  {
   "cell_type": "markdown",
   "metadata": {},
   "source": [
    "## Discounts are used more than bogo's"
   ]
  },
  {
   "cell_type": "markdown",
   "metadata": {},
   "source": [
    "In the test data, the least used discount is used more than the most used bogo. Clearly, the discounts are more popular here. Let's confirm that in the testdata."
   ]
  },
  {
   "cell_type": "code",
   "execution_count": 68,
   "metadata": {},
   "outputs": [
    {
     "data": {
      "text/plain": [
       "discount    0.780972\n",
       "bogo        0.745941\n",
       "Name: offer_type_completed, dtype: float64"
      ]
     },
     "execution_count": 68,
     "metadata": {},
     "output_type": "execute_result"
    }
   ],
   "source": [
    "used = get_used_offers(df_test).offer_type_completed.value_counts();\n",
    "total = get_merged_offers(df_test).offer_type_completed.value_counts();\n",
    "used / total"
   ]
  },
  {
   "cell_type": "markdown",
   "metadata": {},
   "source": [
    "The difference is not as big as expected, but discounts are still more popular here.\n",
    "We might favor discounts over bogo's for this reason."
   ]
  },
  {
   "cell_type": "markdown",
   "metadata": {},
   "source": [
    "## When using bogo's, it's best to only provide these offers to men."
   ]
  },
  {
   "cell_type": "markdown",
   "metadata": {},
   "source": [
    "In the barcharts comparing turnover increase per offer type, we observed a difference between men and women. Men are more likely to use a bogo."
   ]
  },
  {
   "cell_type": "code",
   "execution_count": 69,
   "metadata": {},
   "outputs": [
    {
     "data": {
      "text/plain": [
       "F    1633\n",
       "M    1619\n",
       "O      67\n",
       "Name: gender_viewed, dtype: int64"
      ]
     },
     "execution_count": 69,
     "metadata": {},
     "output_type": "execute_result"
    }
   ],
   "source": [
    "used = get_used_offers(df_test)\n",
    "used[used.offer_type_completed == 'bogo'].gender_viewed.value_counts()"
   ]
  },
  {
   "cell_type": "markdown",
   "metadata": {},
   "source": [
    "This difference cannot be observed in the testset."
   ]
  },
  {
   "cell_type": "markdown",
   "metadata": {},
   "source": [
    "## Web offers are more likely to be used than mobile offers"
   ]
  },
  {
   "cell_type": "markdown",
   "metadata": {},
   "source": [
    "In the analysis of the first offers, web increased the turnover more than mobile does. But this is not about its usage, but about the increase in turnover. Later, we predicted if an offer will be used. In this model, the coefficient for web is larger than for mobile, suggesting that web offers are used more than mobile offers."
   ]
  },
  {
   "cell_type": "code",
   "execution_count": 70,
   "metadata": {},
   "outputs": [
    {
     "name": "stdout",
     "output_type": "stream",
     "text": [
      "0.5711749266635788\n",
      "0.5894530260825526\n"
     ]
    }
   ],
   "source": [
    "used = get_used_offers(df_test)\n",
    "total = get_merged_offers(df_test)\n",
    "print(used.sum().web_viewed / total.sum().web_viewed)\n",
    "print(used.sum().mobile_viewed / total.sum().mobile_viewed)"
   ]
  },
  {
   "cell_type": "markdown",
   "metadata": {},
   "source": [
    "In the testset, mobile offers are used 59% of the time, versus 57% for web. This denies our previous finding."
   ]
  },
  {
   "cell_type": "markdown",
   "metadata": {},
   "source": [
    "## Which orders to stop and which to continue?"
   ]
  },
  {
   "cell_type": "markdown",
   "metadata": {},
   "source": [
    "We have calculated some figures to show the effect of an offer. These were added to the portfolio dataframe."
   ]
  },
  {
   "cell_type": "code",
   "execution_count": 71,
   "metadata": {},
   "outputs": [
    {
     "data": {
      "text/html": [
       "<div>\n",
       "<style scoped>\n",
       "    .dataframe tbody tr th:only-of-type {\n",
       "        vertical-align: middle;\n",
       "    }\n",
       "\n",
       "    .dataframe tbody tr th {\n",
       "        vertical-align: top;\n",
       "    }\n",
       "\n",
       "    .dataframe thead th {\n",
       "        text-align: right;\n",
       "    }\n",
       "</style>\n",
       "<table border=\"1\" class=\"dataframe\">\n",
       "  <thead>\n",
       "    <tr style=\"text-align: right;\">\n",
       "      <th></th>\n",
       "      <th>reward</th>\n",
       "      <th>difficulty</th>\n",
       "      <th>duration</th>\n",
       "      <th>offer_type</th>\n",
       "      <th>web</th>\n",
       "      <th>email</th>\n",
       "      <th>mobile</th>\n",
       "      <th>social</th>\n",
       "      <th>issued</th>\n",
       "      <th>used</th>\n",
       "      <th>used_pct</th>\n",
       "      <th>first_offer_turnover</th>\n",
       "      <th>turnover</th>\n",
       "    </tr>\n",
       "    <tr>\n",
       "      <th>offer_id</th>\n",
       "      <th></th>\n",
       "      <th></th>\n",
       "      <th></th>\n",
       "      <th></th>\n",
       "      <th></th>\n",
       "      <th></th>\n",
       "      <th></th>\n",
       "      <th></th>\n",
       "      <th></th>\n",
       "      <th></th>\n",
       "      <th></th>\n",
       "      <th></th>\n",
       "      <th></th>\n",
       "    </tr>\n",
       "  </thead>\n",
       "  <tbody>\n",
       "    <tr>\n",
       "      <td>ae264e3637204a6fb9bb56bc8210ddfd</td>\n",
       "      <td>10</td>\n",
       "      <td>10</td>\n",
       "      <td>7</td>\n",
       "      <td>bogo</td>\n",
       "      <td>0</td>\n",
       "      <td>1</td>\n",
       "      <td>1</td>\n",
       "      <td>1</td>\n",
       "      <td>5863</td>\n",
       "      <td>2139</td>\n",
       "      <td>36.483029</td>\n",
       "      <td>54.032887</td>\n",
       "      <td>0.879830</td>\n",
       "    </tr>\n",
       "    <tr>\n",
       "      <td>4d5c57ea9a6940dd891ad53e9dbe8da0</td>\n",
       "      <td>10</td>\n",
       "      <td>10</td>\n",
       "      <td>5</td>\n",
       "      <td>bogo</td>\n",
       "      <td>1</td>\n",
       "      <td>1</td>\n",
       "      <td>1</td>\n",
       "      <td>1</td>\n",
       "      <td>6128</td>\n",
       "      <td>2154</td>\n",
       "      <td>35.150131</td>\n",
       "      <td>52.496122</td>\n",
       "      <td>-0.275299</td>\n",
       "    </tr>\n",
       "    <tr>\n",
       "      <td>3f207df678b143eea3cee63160fa8bed</td>\n",
       "      <td>0</td>\n",
       "      <td>0</td>\n",
       "      <td>4</td>\n",
       "      <td>informational</td>\n",
       "      <td>1</td>\n",
       "      <td>1</td>\n",
       "      <td>1</td>\n",
       "      <td>0</td>\n",
       "      <td>3119</td>\n",
       "      <td>2053</td>\n",
       "      <td>65.822379</td>\n",
       "      <td>26.276062</td>\n",
       "      <td>-1.254877</td>\n",
       "    </tr>\n",
       "    <tr>\n",
       "      <td>9b98b8c7a33c4b65b9aebfe6a799e6d9</td>\n",
       "      <td>5</td>\n",
       "      <td>5</td>\n",
       "      <td>7</td>\n",
       "      <td>bogo</td>\n",
       "      <td>1</td>\n",
       "      <td>1</td>\n",
       "      <td>1</td>\n",
       "      <td>0</td>\n",
       "      <td>3708</td>\n",
       "      <td>1681</td>\n",
       "      <td>45.334412</td>\n",
       "      <td>36.830081</td>\n",
       "      <td>0.016428</td>\n",
       "    </tr>\n",
       "    <tr>\n",
       "      <td>0b1e1539f2cc45b7b9fa7c272da2e1d7</td>\n",
       "      <td>5</td>\n",
       "      <td>20</td>\n",
       "      <td>10</td>\n",
       "      <td>discount</td>\n",
       "      <td>1</td>\n",
       "      <td>1</td>\n",
       "      <td>0</td>\n",
       "      <td>0</td>\n",
       "      <td>2356</td>\n",
       "      <td>1118</td>\n",
       "      <td>47.453311</td>\n",
       "      <td>39.304236</td>\n",
       "      <td>1.993397</td>\n",
       "    </tr>\n",
       "    <tr>\n",
       "      <td>2298d6c36e964ae4a3e7e9706d1fb8c2</td>\n",
       "      <td>3</td>\n",
       "      <td>7</td>\n",
       "      <td>7</td>\n",
       "      <td>discount</td>\n",
       "      <td>1</td>\n",
       "      <td>1</td>\n",
       "      <td>1</td>\n",
       "      <td>1</td>\n",
       "      <td>6672</td>\n",
       "      <td>3471</td>\n",
       "      <td>52.023381</td>\n",
       "      <td>42.954124</td>\n",
       "      <td>-0.456256</td>\n",
       "    </tr>\n",
       "    <tr>\n",
       "      <td>fafdcd668e3743c1bb461111dcafc2a4</td>\n",
       "      <td>2</td>\n",
       "      <td>10</td>\n",
       "      <td>10</td>\n",
       "      <td>discount</td>\n",
       "      <td>1</td>\n",
       "      <td>1</td>\n",
       "      <td>1</td>\n",
       "      <td>1</td>\n",
       "      <td>6729</td>\n",
       "      <td>3843</td>\n",
       "      <td>57.111012</td>\n",
       "      <td>49.759284</td>\n",
       "      <td>0.520584</td>\n",
       "    </tr>\n",
       "    <tr>\n",
       "      <td>5a8bc65990b245e5a138643cd4eb9837</td>\n",
       "      <td>0</td>\n",
       "      <td>0</td>\n",
       "      <td>3</td>\n",
       "      <td>informational</td>\n",
       "      <td>0</td>\n",
       "      <td>1</td>\n",
       "      <td>1</td>\n",
       "      <td>1</td>\n",
       "      <td>4984</td>\n",
       "      <td>3183</td>\n",
       "      <td>63.864366</td>\n",
       "      <td>24.227436</td>\n",
       "      <td>-1.383404</td>\n",
       "    </tr>\n",
       "    <tr>\n",
       "      <td>f19421c1d4aa40978ebb69ca19b0e20d</td>\n",
       "      <td>5</td>\n",
       "      <td>5</td>\n",
       "      <td>5</td>\n",
       "      <td>bogo</td>\n",
       "      <td>1</td>\n",
       "      <td>1</td>\n",
       "      <td>1</td>\n",
       "      <td>1</td>\n",
       "      <td>6428</td>\n",
       "      <td>2778</td>\n",
       "      <td>43.217175</td>\n",
       "      <td>46.832470</td>\n",
       "      <td>-0.342454</td>\n",
       "    </tr>\n",
       "    <tr>\n",
       "      <td>2906b810c7d4411798c6938adc9daaa5</td>\n",
       "      <td>2</td>\n",
       "      <td>10</td>\n",
       "      <td>7</td>\n",
       "      <td>discount</td>\n",
       "      <td>1</td>\n",
       "      <td>1</td>\n",
       "      <td>1</td>\n",
       "      <td>0</td>\n",
       "      <td>3687</td>\n",
       "      <td>1710</td>\n",
       "      <td>46.379170</td>\n",
       "      <td>46.096893</td>\n",
       "      <td>0.302052</td>\n",
       "    </tr>\n",
       "  </tbody>\n",
       "</table>\n",
       "</div>"
      ],
      "text/plain": [
       "                                  reward  difficulty  duration     offer_type  \\\n",
       "offer_id                                                                        \n",
       "ae264e3637204a6fb9bb56bc8210ddfd      10          10         7           bogo   \n",
       "4d5c57ea9a6940dd891ad53e9dbe8da0      10          10         5           bogo   \n",
       "3f207df678b143eea3cee63160fa8bed       0           0         4  informational   \n",
       "9b98b8c7a33c4b65b9aebfe6a799e6d9       5           5         7           bogo   \n",
       "0b1e1539f2cc45b7b9fa7c272da2e1d7       5          20        10       discount   \n",
       "2298d6c36e964ae4a3e7e9706d1fb8c2       3           7         7       discount   \n",
       "fafdcd668e3743c1bb461111dcafc2a4       2          10        10       discount   \n",
       "5a8bc65990b245e5a138643cd4eb9837       0           0         3  informational   \n",
       "f19421c1d4aa40978ebb69ca19b0e20d       5           5         5           bogo   \n",
       "2906b810c7d4411798c6938adc9daaa5       2          10         7       discount   \n",
       "\n",
       "                                  web  email  mobile  social  issued  used  \\\n",
       "offer_id                                                                     \n",
       "ae264e3637204a6fb9bb56bc8210ddfd    0      1       1       1    5863  2139   \n",
       "4d5c57ea9a6940dd891ad53e9dbe8da0    1      1       1       1    6128  2154   \n",
       "3f207df678b143eea3cee63160fa8bed    1      1       1       0    3119  2053   \n",
       "9b98b8c7a33c4b65b9aebfe6a799e6d9    1      1       1       0    3708  1681   \n",
       "0b1e1539f2cc45b7b9fa7c272da2e1d7    1      1       0       0    2356  1118   \n",
       "2298d6c36e964ae4a3e7e9706d1fb8c2    1      1       1       1    6672  3471   \n",
       "fafdcd668e3743c1bb461111dcafc2a4    1      1       1       1    6729  3843   \n",
       "5a8bc65990b245e5a138643cd4eb9837    0      1       1       1    4984  3183   \n",
       "f19421c1d4aa40978ebb69ca19b0e20d    1      1       1       1    6428  2778   \n",
       "2906b810c7d4411798c6938adc9daaa5    1      1       1       0    3687  1710   \n",
       "\n",
       "                                   used_pct  first_offer_turnover  turnover  \n",
       "offer_id                                                                     \n",
       "ae264e3637204a6fb9bb56bc8210ddfd  36.483029             54.032887  0.879830  \n",
       "4d5c57ea9a6940dd891ad53e9dbe8da0  35.150131             52.496122 -0.275299  \n",
       "3f207df678b143eea3cee63160fa8bed  65.822379             26.276062 -1.254877  \n",
       "9b98b8c7a33c4b65b9aebfe6a799e6d9  45.334412             36.830081  0.016428  \n",
       "0b1e1539f2cc45b7b9fa7c272da2e1d7  47.453311             39.304236  1.993397  \n",
       "2298d6c36e964ae4a3e7e9706d1fb8c2  52.023381             42.954124 -0.456256  \n",
       "fafdcd668e3743c1bb461111dcafc2a4  57.111012             49.759284  0.520584  \n",
       "5a8bc65990b245e5a138643cd4eb9837  63.864366             24.227436 -1.383404  \n",
       "f19421c1d4aa40978ebb69ca19b0e20d  43.217175             46.832470 -0.342454  \n",
       "2906b810c7d4411798c6938adc9daaa5  46.379170             46.096893  0.302052  "
      ]
     },
     "execution_count": 71,
     "metadata": {},
     "output_type": "execute_result"
    }
   ],
   "source": [
    "portfolio"
   ]
  },
  {
   "cell_type": "markdown",
   "metadata": {},
   "source": [
    "We can generate a rank from these figures."
   ]
  },
  {
   "cell_type": "code",
   "execution_count": 72,
   "metadata": {},
   "outputs": [
    {
     "data": {
      "text/html": [
       "<div>\n",
       "<style scoped>\n",
       "    .dataframe tbody tr th:only-of-type {\n",
       "        vertical-align: middle;\n",
       "    }\n",
       "\n",
       "    .dataframe tbody tr th {\n",
       "        vertical-align: top;\n",
       "    }\n",
       "\n",
       "    .dataframe thead th {\n",
       "        text-align: right;\n",
       "    }\n",
       "</style>\n",
       "<table border=\"1\" class=\"dataframe\">\n",
       "  <thead>\n",
       "    <tr style=\"text-align: right;\">\n",
       "      <th></th>\n",
       "      <th>offer_type</th>\n",
       "      <th>used_pct_rank</th>\n",
       "      <th>turnover_rank</th>\n",
       "      <th>first_offer_turnover_rank</th>\n",
       "    </tr>\n",
       "    <tr>\n",
       "      <th>offer_id</th>\n",
       "      <th></th>\n",
       "      <th></th>\n",
       "      <th></th>\n",
       "      <th></th>\n",
       "    </tr>\n",
       "  </thead>\n",
       "  <tbody>\n",
       "    <tr>\n",
       "      <td>3f207df678b143eea3cee63160fa8bed</td>\n",
       "      <td>informational</td>\n",
       "      <td>1</td>\n",
       "      <td>9</td>\n",
       "      <td>9</td>\n",
       "    </tr>\n",
       "    <tr>\n",
       "      <td>5a8bc65990b245e5a138643cd4eb9837</td>\n",
       "      <td>informational</td>\n",
       "      <td>2</td>\n",
       "      <td>10</td>\n",
       "      <td>10</td>\n",
       "    </tr>\n",
       "    <tr>\n",
       "      <td>fafdcd668e3743c1bb461111dcafc2a4</td>\n",
       "      <td>discount</td>\n",
       "      <td>3</td>\n",
       "      <td>3</td>\n",
       "      <td>3</td>\n",
       "    </tr>\n",
       "    <tr>\n",
       "      <td>2298d6c36e964ae4a3e7e9706d1fb8c2</td>\n",
       "      <td>discount</td>\n",
       "      <td>4</td>\n",
       "      <td>8</td>\n",
       "      <td>6</td>\n",
       "    </tr>\n",
       "    <tr>\n",
       "      <td>0b1e1539f2cc45b7b9fa7c272da2e1d7</td>\n",
       "      <td>discount</td>\n",
       "      <td>5</td>\n",
       "      <td>1</td>\n",
       "      <td>7</td>\n",
       "    </tr>\n",
       "    <tr>\n",
       "      <td>2906b810c7d4411798c6938adc9daaa5</td>\n",
       "      <td>discount</td>\n",
       "      <td>6</td>\n",
       "      <td>4</td>\n",
       "      <td>5</td>\n",
       "    </tr>\n",
       "    <tr>\n",
       "      <td>9b98b8c7a33c4b65b9aebfe6a799e6d9</td>\n",
       "      <td>bogo</td>\n",
       "      <td>7</td>\n",
       "      <td>5</td>\n",
       "      <td>8</td>\n",
       "    </tr>\n",
       "    <tr>\n",
       "      <td>f19421c1d4aa40978ebb69ca19b0e20d</td>\n",
       "      <td>bogo</td>\n",
       "      <td>8</td>\n",
       "      <td>7</td>\n",
       "      <td>4</td>\n",
       "    </tr>\n",
       "    <tr>\n",
       "      <td>ae264e3637204a6fb9bb56bc8210ddfd</td>\n",
       "      <td>bogo</td>\n",
       "      <td>9</td>\n",
       "      <td>2</td>\n",
       "      <td>1</td>\n",
       "    </tr>\n",
       "    <tr>\n",
       "      <td>4d5c57ea9a6940dd891ad53e9dbe8da0</td>\n",
       "      <td>bogo</td>\n",
       "      <td>10</td>\n",
       "      <td>6</td>\n",
       "      <td>2</td>\n",
       "    </tr>\n",
       "  </tbody>\n",
       "</table>\n",
       "</div>"
      ],
      "text/plain": [
       "                                     offer_type  used_pct_rank  turnover_rank  \\\n",
       "offer_id                                                                        \n",
       "3f207df678b143eea3cee63160fa8bed  informational              1              9   \n",
       "5a8bc65990b245e5a138643cd4eb9837  informational              2             10   \n",
       "fafdcd668e3743c1bb461111dcafc2a4       discount              3              3   \n",
       "2298d6c36e964ae4a3e7e9706d1fb8c2       discount              4              8   \n",
       "0b1e1539f2cc45b7b9fa7c272da2e1d7       discount              5              1   \n",
       "2906b810c7d4411798c6938adc9daaa5       discount              6              4   \n",
       "9b98b8c7a33c4b65b9aebfe6a799e6d9           bogo              7              5   \n",
       "f19421c1d4aa40978ebb69ca19b0e20d           bogo              8              7   \n",
       "ae264e3637204a6fb9bb56bc8210ddfd           bogo              9              2   \n",
       "4d5c57ea9a6940dd891ad53e9dbe8da0           bogo             10              6   \n",
       "\n",
       "                                  first_offer_turnover_rank  \n",
       "offer_id                                                     \n",
       "3f207df678b143eea3cee63160fa8bed                          9  \n",
       "5a8bc65990b245e5a138643cd4eb9837                         10  \n",
       "fafdcd668e3743c1bb461111dcafc2a4                          3  \n",
       "2298d6c36e964ae4a3e7e9706d1fb8c2                          6  \n",
       "0b1e1539f2cc45b7b9fa7c272da2e1d7                          7  \n",
       "2906b810c7d4411798c6938adc9daaa5                          5  \n",
       "9b98b8c7a33c4b65b9aebfe6a799e6d9                          8  \n",
       "f19421c1d4aa40978ebb69ca19b0e20d                          4  \n",
       "ae264e3637204a6fb9bb56bc8210ddfd                          1  \n",
       "4d5c57ea9a6940dd891ad53e9dbe8da0                          2  "
      ]
     },
     "execution_count": 72,
     "metadata": {},
     "output_type": "execute_result"
    }
   ],
   "source": [
    "def add_rank(df, column):\n",
    "    df[column + '_rank'] = 0\n",
    "    rank = 0\n",
    "    for index, row in df.sort_values(column, ascending=False).iterrows():\n",
    "        rank += 1\n",
    "        df.loc[index, column + '_rank'] = rank\n",
    "\n",
    "add_rank(portfolio, 'used_pct')\n",
    "add_rank(portfolio, 'turnover')\n",
    "add_rank(portfolio, 'first_offer_turnover')\n",
    "\n",
    "portfolio.sort_values('used_pct_rank')[['offer_type', 'used_pct_rank', 'turnover_rank', 'first_offer_turnover_rank']]\n"
   ]
  },
  {
   "cell_type": "markdown",
   "metadata": {},
   "source": [
    "When sorted on used percentage, it's clear that this order does not correspondent with the change in turnover."
   ]
  },
  {
   "cell_type": "code",
   "execution_count": 79,
   "metadata": {},
   "outputs": [
    {
     "data": {
      "text/html": [
       "<div>\n",
       "<style scoped>\n",
       "    .dataframe tbody tr th:only-of-type {\n",
       "        vertical-align: middle;\n",
       "    }\n",
       "\n",
       "    .dataframe tbody tr th {\n",
       "        vertical-align: top;\n",
       "    }\n",
       "\n",
       "    .dataframe thead th {\n",
       "        text-align: right;\n",
       "    }\n",
       "</style>\n",
       "<table border=\"1\" class=\"dataframe\">\n",
       "  <thead>\n",
       "    <tr style=\"text-align: right;\">\n",
       "      <th></th>\n",
       "      <th>offer_type</th>\n",
       "      <th>used_pct_rank</th>\n",
       "      <th>turnover_rank</th>\n",
       "      <th>first_offer_turnover_rank</th>\n",
       "    </tr>\n",
       "    <tr>\n",
       "      <th>offer_id</th>\n",
       "      <th></th>\n",
       "      <th></th>\n",
       "      <th></th>\n",
       "      <th></th>\n",
       "    </tr>\n",
       "  </thead>\n",
       "  <tbody>\n",
       "    <tr>\n",
       "      <td>0b1e1539f2cc45b7b9fa7c272da2e1d7</td>\n",
       "      <td>discount</td>\n",
       "      <td>5</td>\n",
       "      <td>1</td>\n",
       "      <td>7</td>\n",
       "    </tr>\n",
       "    <tr>\n",
       "      <td>ae264e3637204a6fb9bb56bc8210ddfd</td>\n",
       "      <td>bogo</td>\n",
       "      <td>9</td>\n",
       "      <td>2</td>\n",
       "      <td>1</td>\n",
       "    </tr>\n",
       "    <tr>\n",
       "      <td>fafdcd668e3743c1bb461111dcafc2a4</td>\n",
       "      <td>discount</td>\n",
       "      <td>3</td>\n",
       "      <td>3</td>\n",
       "      <td>3</td>\n",
       "    </tr>\n",
       "    <tr>\n",
       "      <td>2906b810c7d4411798c6938adc9daaa5</td>\n",
       "      <td>discount</td>\n",
       "      <td>6</td>\n",
       "      <td>4</td>\n",
       "      <td>5</td>\n",
       "    </tr>\n",
       "    <tr>\n",
       "      <td>9b98b8c7a33c4b65b9aebfe6a799e6d9</td>\n",
       "      <td>bogo</td>\n",
       "      <td>7</td>\n",
       "      <td>5</td>\n",
       "      <td>8</td>\n",
       "    </tr>\n",
       "    <tr>\n",
       "      <td>4d5c57ea9a6940dd891ad53e9dbe8da0</td>\n",
       "      <td>bogo</td>\n",
       "      <td>10</td>\n",
       "      <td>6</td>\n",
       "      <td>2</td>\n",
       "    </tr>\n",
       "    <tr>\n",
       "      <td>f19421c1d4aa40978ebb69ca19b0e20d</td>\n",
       "      <td>bogo</td>\n",
       "      <td>8</td>\n",
       "      <td>7</td>\n",
       "      <td>4</td>\n",
       "    </tr>\n",
       "    <tr>\n",
       "      <td>2298d6c36e964ae4a3e7e9706d1fb8c2</td>\n",
       "      <td>discount</td>\n",
       "      <td>4</td>\n",
       "      <td>8</td>\n",
       "      <td>6</td>\n",
       "    </tr>\n",
       "    <tr>\n",
       "      <td>3f207df678b143eea3cee63160fa8bed</td>\n",
       "      <td>informational</td>\n",
       "      <td>1</td>\n",
       "      <td>9</td>\n",
       "      <td>9</td>\n",
       "    </tr>\n",
       "    <tr>\n",
       "      <td>5a8bc65990b245e5a138643cd4eb9837</td>\n",
       "      <td>informational</td>\n",
       "      <td>2</td>\n",
       "      <td>10</td>\n",
       "      <td>10</td>\n",
       "    </tr>\n",
       "  </tbody>\n",
       "</table>\n",
       "</div>"
      ],
      "text/plain": [
       "                                     offer_type  used_pct_rank  turnover_rank  \\\n",
       "offer_id                                                                        \n",
       "0b1e1539f2cc45b7b9fa7c272da2e1d7       discount              5              1   \n",
       "ae264e3637204a6fb9bb56bc8210ddfd           bogo              9              2   \n",
       "fafdcd668e3743c1bb461111dcafc2a4       discount              3              3   \n",
       "2906b810c7d4411798c6938adc9daaa5       discount              6              4   \n",
       "9b98b8c7a33c4b65b9aebfe6a799e6d9           bogo              7              5   \n",
       "4d5c57ea9a6940dd891ad53e9dbe8da0           bogo             10              6   \n",
       "f19421c1d4aa40978ebb69ca19b0e20d           bogo              8              7   \n",
       "2298d6c36e964ae4a3e7e9706d1fb8c2       discount              4              8   \n",
       "3f207df678b143eea3cee63160fa8bed  informational              1              9   \n",
       "5a8bc65990b245e5a138643cd4eb9837  informational              2             10   \n",
       "\n",
       "                                  first_offer_turnover_rank  \n",
       "offer_id                                                     \n",
       "0b1e1539f2cc45b7b9fa7c272da2e1d7                          7  \n",
       "ae264e3637204a6fb9bb56bc8210ddfd                          1  \n",
       "fafdcd668e3743c1bb461111dcafc2a4                          3  \n",
       "2906b810c7d4411798c6938adc9daaa5                          5  \n",
       "9b98b8c7a33c4b65b9aebfe6a799e6d9                          8  \n",
       "4d5c57ea9a6940dd891ad53e9dbe8da0                          2  \n",
       "f19421c1d4aa40978ebb69ca19b0e20d                          4  \n",
       "2298d6c36e964ae4a3e7e9706d1fb8c2                          6  \n",
       "3f207df678b143eea3cee63160fa8bed                          9  \n",
       "5a8bc65990b245e5a138643cd4eb9837                         10  "
      ]
     },
     "execution_count": 79,
     "metadata": {},
     "output_type": "execute_result"
    }
   ],
   "source": [
    "portfolio.sort_values('turnover_rank')[['offer_type', 'used_pct_rank', 'turnover_rank', 'first_offer_turnover_rank']]"
   ]
  },
  {
   "cell_type": "markdown",
   "metadata": {},
   "source": [
    "When sorted on the turnover increase in the short-term, we also see that the long-term effect is very different for some of the offers."
   ]
  },
  {
   "cell_type": "markdown",
   "metadata": {},
   "source": [
    "We should consider to stop discount 2298..b8c2, because it seems to have a (relative) negative effect on the turnover.\n",
    "Other discounts are doing much better. This might have to do with the high difficulty (7).\n",
    "\n",
    "Note that the (relative) turnover is negative for the lowest five offers on this list. This is not suprising for informational offers. We should also reconsider the two bogo's in this range, namely 4d5c..8da0 and f194..e20d."
   ]
  },
  {
   "cell_type": "code",
   "execution_count": 74,
   "metadata": {},
   "outputs": [
    {
     "data": {
      "image/png": "[encoded data removed]",
      "text/plain": [
       "<Figure size 432x288 with 2 Axes>"
      ]
     },
     "metadata": {
      "needs_background": "light"
     },
     "output_type": "display_data"
    }
   ],
   "source": [
    "# Calculate correlations.\n",
    "# Use spearman because we are using this data in the context of ranked lists rather than absolute values.\n",
    "corr = portfolio[[\n",
    "    'used_pct',\n",
    "    'turnover',\n",
    "    'first_offer_turnover',\n",
    "]].corr(method='spearman')\n",
    "ax = sns.heatmap(\n",
    "    corr, \n",
    "    vmin=-1, vmax=1, center=0,\n",
    "    cmap=sns.diverging_palette(20, 220, n=200),\n",
    "    square=True\n",
    ")\n",
    "ax.set_xticklabels(\n",
    "    ax.get_xticklabels(),\n",
    "    rotation=45,\n",
    "    horizontalalignment='right'\n",
    ");"
   ]
  },
  {
   "cell_type": "markdown",
   "metadata": {},
   "source": [
    "The correlation between the turnover figures are positive, as expected. The used percentage has a negative correlation with other figures. This is expected, because of the greater the difficulty, the higher the turnover, but the lower the usage."
   ]
  },
  {
   "cell_type": "markdown",
   "metadata": {},
   "source": [
    "## Effect of duration\n",
    "\n",
    "In the linear regression, the coefficient for duration is positive for usage and turnover in the short-term, but negative in the long-term. The observed difference between offers fafd..c2a4 and 2906..aaa5 also suggest that it is better to limit the duration. Should we limit offers to 7 days maximum?"
   ]
  },
  {
   "cell_type": "code",
   "execution_count": 75,
   "metadata": {},
   "outputs": [
    {
     "data": {
      "text/plain": [
       "(0.6356228172293364, 0.6001324064879179)"
      ]
     },
     "execution_count": 75,
     "metadata": {},
     "output_type": "execute_result"
    }
   ],
   "source": [
    "used = get_used_offers(df_test, False)\n",
    "used[used.duration_viewed < 7].used.mean(), used[used.duration_viewed > 7].used.mean()"
   ]
  },
  {
   "cell_type": "code",
   "execution_count": 78,
   "metadata": {},
   "outputs": [
    {
     "data": {
      "text/plain": [
       "Ttest_indResult(statistic=3.3594047511629475, pvalue=0.0007840580342126527)"
      ]
     },
     "execution_count": 78,
     "metadata": {},
     "output_type": "execute_result"
    }
   ],
   "source": [
    "ttest_ind(used[used.duration_viewed < 7].used, used[used.duration_viewed > 7].used)"
   ]
  },
  {
   "cell_type": "markdown",
   "metadata": {},
   "source": [
    "A quick check on the testdata shows that offers with a duration less than 7 days are used in 64% of the case, while offers with a duration more than 7 days are used only 60% of the time. The difference is statistically significant (p = 3.36, t < 0.01)."
   ]
  },
  {
   "cell_type": "markdown",
   "metadata": {},
   "source": [
    "## Females prefer discounts over bogo's\n",
    "\n",
    "This was observed in the decision tree."
   ]
  },
  {
   "cell_type": "code",
   "execution_count": 76,
   "metadata": {},
   "outputs": [
    {
     "data": {
      "text/plain": [
       "(Ttest_indResult(statistic=1.5254004706346138, pvalue=0.12723254578873885),\n",
       " 0.7629839471199245,\n",
       " 0.7429481346678799)"
      ]
     },
     "execution_count": 76,
     "metadata": {},
     "output_type": "execute_result"
    }
   ],
   "source": [
    "from scipy.stats import ttest_ind\n",
    "\n",
    "females = used[(used.gender_viewed == 'F')]\n",
    "values_discount = females[females.offer_type_completed == 'discount'].used\n",
    "values_bogo = females[females.offer_type_completed == 'bogo'].used\n",
    "\n",
    "ttest_ind(values_discount, values_bogo), values_discount.mean(), values_bogo.mean()"
   ]
  },
  {
   "cell_type": "markdown",
   "metadata": {},
   "source": [
    "We can verify this claim by comparing means, but this is not a significant difference according to the t-test."
   ]
  },
  {
   "cell_type": "markdown",
   "metadata": {},
   "source": [
    "## For males, avoid bogo's with rewards above 7.5\n",
    "\n",
    "This advice might not be specific to men. However, it was observed in the decision tree for men only. We should trust the model that this fact is not important for woman and resist the urge to check this fact only on the testdata."
   ]
  },
  {
   "cell_type": "code",
   "execution_count": 77,
   "metadata": {},
   "outputs": [
    {
     "data": {
      "text/plain": [
       "(Ttest_indResult(statistic=1.6870742174939843, pvalue=0.09173300496602874),\n",
       " 0.760705289672544,\n",
       " 0.7290388548057259)"
      ]
     },
     "execution_count": 77,
     "metadata": {},
     "output_type": "execute_result"
    }
   ],
   "source": [
    "males = used[(used.gender_viewed == 'M')]\n",
    "values_low_reward = males[(males.offer_type_completed == 'bogo') & (males.reward_completed <= 7.5)].used\n",
    "values_high_reward = males[(males.offer_type_completed == 'bogo') & (males.reward_completed > 7.5)].used\n",
    "\n",
    "ttest_ind(values_low_reward, values_high_reward), values_low_reward.mean(), values_high_reward.mean()"
   ]
  },
  {
   "cell_type": "markdown",
   "metadata": {},
   "source": [
    "Like the previous claim. Means agree with our findings, but not statistically significant."
   ]
  },
  {
   "cell_type": "markdown",
   "metadata": {},
   "source": [
    "# Conclusions"
   ]
  },
  {
   "cell_type": "markdown",
   "metadata": {},
   "source": [
    "## Reflection\n",
    "\n",
    "Starbucks wants to know what offers works best and why. An experiment was set up with three different offer types: discounts, buy-one-get-one (bogo) and informational. Each class has multiple configurations that differ in duration, reward (earnings when completing) and difficulty (minimum spending). In total, there were ten settings. The available demographic features are age, income and gender. This information has to be combined with the transaction data to gain useful insights about which offers work, and what factors account for that.\n",
    "\n",
    "The provided data is sparse compared to many other Data Science projects. This project is also exciting since not all have a lot of data. Getting more information from a few dimensions makes this an inspiring project as well because it requires a creative and flexible approach. There are no basic modelling techniques that can handle this data directly. A custom method was needed to know if an offer was used, the change in turnover, and the number of offers seen before."
   ]
  },
  {
   "cell_type": "markdown",
   "metadata": {},
   "source": [
    "## Improvements\n",
    "\n",
    "The model that predicts if an order was used does not include the number of offers that the user viewed before. In this analysis, this number was only calculated for used offers. We might calculate this for all offers to improve this model.\n",
    "\n",
    "Several methods were used to analyse the effect of the offers. Each analysis has its own shortcomings. Analysis of the first offer does not use all data. The turnover calculations look at the week before and after the event, but these might overlap with other events. This effect is not corrected, but it is assumed that the average effect is not highly affected by this.\n",
    "\n",
    "Another possibility is to create a model that a single coefficient per offer. This indicates if the turnover is negatively or positively affected by this offer. We can then create a spline that models the weekly turnover per person. We can use higher degree curves to model the decay after the offer. The coefficients can be tuned by implementing gradient descent. This is not a standard implementation (like linear regression), but it likely gives a better representation of the turnover."
   ]
  },
  {
   "cell_type": "markdown",
   "metadata": {},
   "source": [
    "## Recommendations\n",
    "The test design could use some improvements:\n",
    "\n",
    "* Include at least one offer that is not sent via e-mail. Currently, it is not possible to measure the effect of sending an offer per mail.\n",
    "* Consider including a period without offers, or pick random users that do not get an offer. If we do this, we can measure the turnover for people that do not get any offer, and therefore calculate the nett increase in turnover for people that do receive offers.\n",
    "\n",
    "The following recommendations can be made on the offers:\n",
    "\n",
    "* Prefer discounts over bogo's. Discounts are more likely to be used.\n",
    "* Favor web orders over mobile. Web orders are more likely to be used.\n",
    "* Stop discount 2298..b8c2, because it seems to have a (relative) adverse effect on the turnover.\n",
    "* Consider to stop bogo's 4d5c..8da0 and f194..e20d.\n",
    "* Limit duration to 7 days. Offers that are valid for more than seven days tend to be used less.\n",
    "\n",
    "There were some observations about demographic features. These are:\n",
    "\n",
    "* Females prefer discounts over bogo's\n",
    "* For males, avoid bogo's with rewards above 7.5\n",
    "\n",
    "Both findings are not statistically significant. However, we might still implement the decision tree to determine if we should send an offer. This model includes these findings. It can predict if an offer will be used with 68% accuracy, which is better than the current (naive) model that sends an offer to everybody. Only 59% of the offers were used, which is also the accuracy of this naive model. Therefore, it seems reasonable to implement this decision tree, to avoid irritating users with offers they will not use."
   ]
  },
  {
   "cell_type": "code",
   "execution_count": null,
   "metadata": {},
   "outputs": [],
   "source": []
  }
 ],
 "metadata": {
  "kernelspec": {
   "display_name": "Python 3",
   "language": "python",
   "name": "python3"
  },
  "language_info": {
   "codemirror_mode": {
    "name": "ipython",
    "version": 3
   },
   "file_extension": ".py",
   "mimetype": "text/x-python",
   "name": "python",
   "nbconvert_exporter": "python",
   "pygments_lexer": "ipython3",
   "version": "3.7.3"
  }
 },
 "nbformat": 4,
 "nbformat_minor": 4
}
